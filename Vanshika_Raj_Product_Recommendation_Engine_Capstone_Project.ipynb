{
  "nbformat": 4,
  "nbformat_minor": 0,
  "metadata": {
    "kernelspec": {
      "display_name": "Python 3",
      "language": "python",
      "name": "python3"
    },
    "language_info": {
      "codemirror_mode": {
        "name": "ipython",
        "version": 3
      },
      "file_extension": ".py",
      "mimetype": "text/x-python",
      "name": "python",
      "nbconvert_exporter": "python",
      "pygments_lexer": "ipython3",
      "version": "3.6.6"
    },
    "colab": {
      "name": "Vanshika Raj - Product Recommendation Engine - Capstone Project.ipynb",
      "provenance": [],
      "collapsed_sections": []
    }
  },
  "cells": [
    {
      "cell_type": "markdown",
      "metadata": {
        "id": "tOGC-qoyhJeX"
      },
      "source": [
        "# <b><u> Project Title : Build a recommender engine that reviews customer ratings and purchase history to recommend items and improve sales. </u></b>"
      ]
    },
    {
      "cell_type": "markdown",
      "metadata": {
        "id": "Y06xIdG26kRF"
      },
      "source": [
        "### Amazon.com is one of the largest electronic commerce and cloud computing companies.\n",
        "\n",
        "### Just a few Amazon related facts:\n",
        "\n",
        "### They lost $4.8 million in August 2013, when their website went down for 40 mins. They hold the patent on 1-Click buying, and licenses it to Apple. Their Phoenix fulfilment centre is a massive 1.2 million square feet. Amazon relies heavily on a Recommendation engine that reviews customer ratings and purchase history to recommend items and improve sales.\n",
        "\n",
        "\n",
        "### This is a dataset related to over 2 Million customer reviews and ratings of Beauty related products sold on their website.\n",
        "\n",
        "### It contains\n",
        "\n",
        "* ### the unique UserId (Customer Identification),\n",
        "* ### the product ASIN (Amazon's unique product identification code for each product),\n",
        "* ### Ratings (ranging from 1-5 based on customer satisfaction) and\n",
        "* ### the Timestamp of the rating (in UNIX time)\n",
        "\n",
        "### This dataset contains product reviews and metadata from Amazon, including 142.8 million reviews spanning May 1996 - July 2014.\n",
        "\n",
        "### This dataset includes reviews (ratings, text, helpfulness votes), product metadata (descriptions, category information, price, brand, and image features), and links (also viewed/also bought graphs).\n"
      ]
    },
    {
      "cell_type": "code",
      "metadata": {
        "id": "8wyTheqLQUTE"
      },
      "source": [
        "\r\n",
        "import numpy as np\r\n",
        "import scipy\r\n",
        "import pandas as pd\r\n",
        "import math\r\n",
        "import random\r\n",
        "import sklearn\r\n",
        "from nltk.corpus import stopwords\r\n",
        "from sklearn.model_selection import train_test_split\r\n",
        "from sklearn.feature_extraction.text import TfidfVectorizer\r\n",
        "from sklearn.metrics.pairwise import cosine_similarity\r\n",
        "from scipy.sparse.linalg import svds\r\n",
        "import matplotlib.pyplot as plt"
      ],
      "execution_count": 14,
      "outputs": []
    },
    {
      "cell_type": "code",
      "metadata": {
        "colab": {
          "base_uri": "https://localhost:8080/"
        },
        "id": "GilG96E8AOMn",
        "outputId": "28d52dd4-d915-4a70-cc80-ea5102c61cb2"
      },
      "source": [
        "from google.colab import drive\r\n",
        "drive.mount('/content/drive')"
      ],
      "execution_count": 15,
      "outputs": [
        {
          "output_type": "stream",
          "text": [
            "Drive already mounted at /content/drive; to attempt to forcibly remount, call drive.mount(\"/content/drive\", force_remount=True).\n"
          ],
          "name": "stdout"
        }
      ]
    },
    {
      "cell_type": "code",
      "metadata": {
        "colab": {
          "base_uri": "https://localhost:8080/",
          "height": 210
        },
        "id": "pPIL7PIaARXA",
        "outputId": "8761cffb-e429-4b36-a6a7-d29cc910efc0"
      },
      "source": [
        "# Load the dataset\r\n",
        "rating_df = pd.read_csv('/content/drive/MyDrive/AlmaBetter/Cohort Aravali/Module 4/Week 4/ratings_Beauty.csv')\r\n",
        "\r\n",
        "rating_json = pd.read_json('/content/drive/MyDrive/AlmaBetter/Cohort Aravali/Module 4/Week 4/reviews_Beauty_5.json.gz', compression='infer',lines = True)\r\n",
        "\r\n",
        "\r\n",
        "rating_df.head()"
      ],
      "execution_count": 3,
      "outputs": [
        {
          "output_type": "execute_result",
          "data": {
            "text/html": [
              "<div>\n",
              "<style scoped>\n",
              "    .dataframe tbody tr th:only-of-type {\n",
              "        vertical-align: middle;\n",
              "    }\n",
              "\n",
              "    .dataframe tbody tr th {\n",
              "        vertical-align: top;\n",
              "    }\n",
              "\n",
              "    .dataframe thead th {\n",
              "        text-align: right;\n",
              "    }\n",
              "</style>\n",
              "<table border=\"1\" class=\"dataframe\">\n",
              "  <thead>\n",
              "    <tr style=\"text-align: right;\">\n",
              "      <th></th>\n",
              "      <th>UserId</th>\n",
              "      <th>ProductId</th>\n",
              "      <th>Rating</th>\n",
              "      <th>Timestamp</th>\n",
              "    </tr>\n",
              "  </thead>\n",
              "  <tbody>\n",
              "    <tr>\n",
              "      <th>0</th>\n",
              "      <td>A39HTATAQ9V7YF</td>\n",
              "      <td>0205616461</td>\n",
              "      <td>5.0</td>\n",
              "      <td>1369699200</td>\n",
              "    </tr>\n",
              "    <tr>\n",
              "      <th>1</th>\n",
              "      <td>A3JM6GV9MNOF9X</td>\n",
              "      <td>0558925278</td>\n",
              "      <td>3.0</td>\n",
              "      <td>1355443200</td>\n",
              "    </tr>\n",
              "    <tr>\n",
              "      <th>2</th>\n",
              "      <td>A1Z513UWSAAO0F</td>\n",
              "      <td>0558925278</td>\n",
              "      <td>5.0</td>\n",
              "      <td>1404691200</td>\n",
              "    </tr>\n",
              "    <tr>\n",
              "      <th>3</th>\n",
              "      <td>A1WMRR494NWEWV</td>\n",
              "      <td>0733001998</td>\n",
              "      <td>4.0</td>\n",
              "      <td>1382572800</td>\n",
              "    </tr>\n",
              "    <tr>\n",
              "      <th>4</th>\n",
              "      <td>A3IAAVS479H7M7</td>\n",
              "      <td>0737104473</td>\n",
              "      <td>1.0</td>\n",
              "      <td>1274227200</td>\n",
              "    </tr>\n",
              "  </tbody>\n",
              "</table>\n",
              "</div>"
            ],
            "text/plain": [
              "           UserId   ProductId  Rating   Timestamp\n",
              "0  A39HTATAQ9V7YF  0205616461     5.0  1369699200\n",
              "1  A3JM6GV9MNOF9X  0558925278     3.0  1355443200\n",
              "2  A1Z513UWSAAO0F  0558925278     5.0  1404691200\n",
              "3  A1WMRR494NWEWV  0733001998     4.0  1382572800\n",
              "4  A3IAAVS479H7M7  0737104473     1.0  1274227200"
            ]
          },
          "metadata": {
            "tags": []
          },
          "execution_count": 3
        }
      ]
    },
    {
      "cell_type": "code",
      "metadata": {
        "colab": {
          "base_uri": "https://localhost:8080/",
          "height": 210
        },
        "id": "lmGTuaDoJ_rs",
        "outputId": "b4a2990a-1b1d-4f9b-af3a-9a8fed0b42a9"
      },
      "source": [
        "rating_json.head()"
      ],
      "execution_count": 4,
      "outputs": [
        {
          "output_type": "execute_result",
          "data": {
            "text/html": [
              "<div>\n",
              "<style scoped>\n",
              "    .dataframe tbody tr th:only-of-type {\n",
              "        vertical-align: middle;\n",
              "    }\n",
              "\n",
              "    .dataframe tbody tr th {\n",
              "        vertical-align: top;\n",
              "    }\n",
              "\n",
              "    .dataframe thead th {\n",
              "        text-align: right;\n",
              "    }\n",
              "</style>\n",
              "<table border=\"1\" class=\"dataframe\">\n",
              "  <thead>\n",
              "    <tr style=\"text-align: right;\">\n",
              "      <th></th>\n",
              "      <th>reviewerID</th>\n",
              "      <th>asin</th>\n",
              "      <th>reviewerName</th>\n",
              "      <th>helpful</th>\n",
              "      <th>reviewText</th>\n",
              "      <th>overall</th>\n",
              "      <th>summary</th>\n",
              "      <th>unixReviewTime</th>\n",
              "      <th>reviewTime</th>\n",
              "    </tr>\n",
              "  </thead>\n",
              "  <tbody>\n",
              "    <tr>\n",
              "      <th>0</th>\n",
              "      <td>A1YJEY40YUW4SE</td>\n",
              "      <td>7806397051</td>\n",
              "      <td>Andrea</td>\n",
              "      <td>[3, 4]</td>\n",
              "      <td>Very oily and creamy. Not at all what I expect...</td>\n",
              "      <td>1</td>\n",
              "      <td>Don't waste your money</td>\n",
              "      <td>1391040000</td>\n",
              "      <td>01 30, 2014</td>\n",
              "    </tr>\n",
              "    <tr>\n",
              "      <th>1</th>\n",
              "      <td>A60XNB876KYML</td>\n",
              "      <td>7806397051</td>\n",
              "      <td>Jessica H.</td>\n",
              "      <td>[1, 1]</td>\n",
              "      <td>This palette was a decent price and I was look...</td>\n",
              "      <td>3</td>\n",
              "      <td>OK Palette!</td>\n",
              "      <td>1397779200</td>\n",
              "      <td>04 18, 2014</td>\n",
              "    </tr>\n",
              "    <tr>\n",
              "      <th>2</th>\n",
              "      <td>A3G6XNM240RMWA</td>\n",
              "      <td>7806397051</td>\n",
              "      <td>Karen</td>\n",
              "      <td>[0, 1]</td>\n",
              "      <td>The texture of this concealer pallet is fantas...</td>\n",
              "      <td>4</td>\n",
              "      <td>great quality</td>\n",
              "      <td>1378425600</td>\n",
              "      <td>09 6, 2013</td>\n",
              "    </tr>\n",
              "    <tr>\n",
              "      <th>3</th>\n",
              "      <td>A1PQFP6SAJ6D80</td>\n",
              "      <td>7806397051</td>\n",
              "      <td>Norah</td>\n",
              "      <td>[2, 2]</td>\n",
              "      <td>I really can't tell what exactly this thing is...</td>\n",
              "      <td>2</td>\n",
              "      <td>Do not work on my face</td>\n",
              "      <td>1386460800</td>\n",
              "      <td>12 8, 2013</td>\n",
              "    </tr>\n",
              "    <tr>\n",
              "      <th>4</th>\n",
              "      <td>A38FVHZTNQ271F</td>\n",
              "      <td>7806397051</td>\n",
              "      <td>Nova Amor</td>\n",
              "      <td>[0, 0]</td>\n",
              "      <td>It was a little smaller than I expected, but t...</td>\n",
              "      <td>3</td>\n",
              "      <td>It's okay.</td>\n",
              "      <td>1382140800</td>\n",
              "      <td>10 19, 2013</td>\n",
              "    </tr>\n",
              "  </tbody>\n",
              "</table>\n",
              "</div>"
            ],
            "text/plain": [
              "       reviewerID        asin  ... unixReviewTime   reviewTime\n",
              "0  A1YJEY40YUW4SE  7806397051  ...     1391040000  01 30, 2014\n",
              "1   A60XNB876KYML  7806397051  ...     1397779200  04 18, 2014\n",
              "2  A3G6XNM240RMWA  7806397051  ...     1378425600   09 6, 2013\n",
              "3  A1PQFP6SAJ6D80  7806397051  ...     1386460800   12 8, 2013\n",
              "4  A38FVHZTNQ271F  7806397051  ...     1382140800  10 19, 2013\n",
              "\n",
              "[5 rows x 9 columns]"
            ]
          },
          "metadata": {
            "tags": []
          },
          "execution_count": 4
        }
      ]
    },
    {
      "cell_type": "code",
      "metadata": {
        "colab": {
          "base_uri": "https://localhost:8080/"
        },
        "id": "LuFQKZPqAvmx",
        "outputId": "745b0e15-9597-4b1c-c219-fb2db15374dd"
      },
      "source": [
        "rating_df.info()"
      ],
      "execution_count": 5,
      "outputs": [
        {
          "output_type": "stream",
          "text": [
            "<class 'pandas.core.frame.DataFrame'>\n",
            "RangeIndex: 2023070 entries, 0 to 2023069\n",
            "Data columns (total 4 columns):\n",
            " #   Column     Dtype  \n",
            "---  ------     -----  \n",
            " 0   UserId     object \n",
            " 1   ProductId  object \n",
            " 2   Rating     float64\n",
            " 3   Timestamp  int64  \n",
            "dtypes: float64(1), int64(1), object(2)\n",
            "memory usage: 61.7+ MB\n"
          ],
          "name": "stdout"
        }
      ]
    },
    {
      "cell_type": "code",
      "metadata": {
        "colab": {
          "base_uri": "https://localhost:8080/"
        },
        "id": "GRSknHOLA4jQ",
        "outputId": "351ba56d-3b89-4e42-e2a5-3695bba910a2"
      },
      "source": [
        "rating_json.reviewerID.unique()"
      ],
      "execution_count": 6,
      "outputs": [
        {
          "output_type": "execute_result",
          "data": {
            "text/plain": [
              "array(['A1YJEY40YUW4SE', 'A60XNB876KYML', 'A3G6XNM240RMWA', ...,\n",
              "       'A3L85FTL937CEC', 'A1QAWMPT3S6YIB', 'A2CG5Y82ZZNY6W'], dtype=object)"
            ]
          },
          "metadata": {
            "tags": []
          },
          "execution_count": 6
        }
      ]
    },
    {
      "cell_type": "code",
      "metadata": {
        "colab": {
          "base_uri": "https://localhost:8080/"
        },
        "id": "0XPtfE-ZMup0",
        "outputId": "c28f9e4e-05df-4b46-91b6-9d7c8412b0fd"
      },
      "source": [
        "rating_df.UserId.unique()\r\n"
      ],
      "execution_count": 7,
      "outputs": [
        {
          "output_type": "execute_result",
          "data": {
            "text/plain": [
              "array(['A39HTATAQ9V7YF', 'A3JM6GV9MNOF9X', 'A1Z513UWSAAO0F', ...,\n",
              "       'AFPRQT3V8C1U1', 'A1RYQPQ01T5D5R', 'A3MQDRRGC9070R'], dtype=object)"
            ]
          },
          "metadata": {
            "tags": []
          },
          "execution_count": 7
        }
      ]
    },
    {
      "cell_type": "code",
      "metadata": {
        "colab": {
          "base_uri": "https://localhost:8080/"
        },
        "id": "2Gik_vBXNXA5",
        "outputId": "54bfb8b5-7e34-4da9-b9a8-3fd90b60fc62"
      },
      "source": [
        "rating_df['UserId'].value_counts()"
      ],
      "execution_count": 8,
      "outputs": [
        {
          "output_type": "execute_result",
          "data": {
            "text/plain": [
              "A3KEZLJ59C1JVH    389\n",
              "A281NPSIMI1C2R    336\n",
              "A3M174IC0VXOS2    326\n",
              "A2V5R832QCSOMX    278\n",
              "A3LJLRIZL38GG3    276\n",
              "                 ... \n",
              "APAES6XEFV9Q1       1\n",
              "A2KESJRGCHF12H      1\n",
              "A3ULUTR76528UV      1\n",
              "A2EOWJM6KDY5CH      1\n",
              "A1JIE6Y2GOUQYP      1\n",
              "Name: UserId, Length: 1210271, dtype: int64"
            ]
          },
          "metadata": {
            "tags": []
          },
          "execution_count": 8
        }
      ]
    },
    {
      "cell_type": "code",
      "metadata": {
        "colab": {
          "base_uri": "https://localhost:8080/"
        },
        "id": "Sa_LqNioNm7H",
        "outputId": "a8b2c081-53e2-4276-89fb-76fe60ade1a2"
      },
      "source": [
        "rating_json['reviewerID'].value_counts()"
      ],
      "execution_count": 9,
      "outputs": [
        {
          "output_type": "execute_result",
          "data": {
            "text/plain": [
              "A2V5R832QCSOMX    204\n",
              "ALNFHVS3SC4FV     192\n",
              "AKMEY1BSHSDG7     182\n",
              "A3KEZLJ59C1JVH    154\n",
              "ALQGOMOY1F5X9     150\n",
              "                 ... \n",
              "A2RGE6WNAYPSD5      5\n",
              "A28CJ91VZ63A7A      5\n",
              "A3578WPHOPUCQD      5\n",
              "A2F1FP9DWAWMNB      5\n",
              "A5H8NA5CJ0FK4       5\n",
              "Name: reviewerID, Length: 22363, dtype: int64"
            ]
          },
          "metadata": {
            "tags": []
          },
          "execution_count": 9
        }
      ]
    },
    {
      "cell_type": "code",
      "metadata": {
        "id": "OLeE1LAESWeE"
      },
      "source": [
        "left = rating_json"
      ],
      "execution_count": 10,
      "outputs": []
    },
    {
      "cell_type": "code",
      "metadata": {
        "id": "zEnzy7RgUxd7"
      },
      "source": [
        "right=rating_df"
      ],
      "execution_count": 11,
      "outputs": []
    },
    {
      "cell_type": "code",
      "metadata": {
        "id": "fbnvOdS9bq-A"
      },
      "source": [
        "rating_json.rename({\"reviewerID\": \"UserId\"}, axis = \"columns\", inplace = True) \r\n",
        "\r\n"
      ],
      "execution_count": 12,
      "outputs": []
    },
    {
      "cell_type": "code",
      "metadata": {
        "id": "voFn678y-G2G"
      },
      "source": [
        "df3 = pd.merge(rating_df, rating_json)\r\n"
      ],
      "execution_count": 16,
      "outputs": []
    },
    {
      "cell_type": "code",
      "metadata": {
        "id": "p49jEfxpU2tb"
      },
      "source": [
        "products_per_user = rating_df.groupby(by='UserId')['Rating'].count().sort_values(ascending=False)"
      ],
      "execution_count": null,
      "outputs": []
    },
    {
      "cell_type": "code",
      "metadata": {
        "colab": {
          "base_uri": "https://localhost:8080/"
        },
        "id": "Xx3y2yWfeiIB",
        "outputId": "50af1e39-11f4-4d06-eb4e-ebad9021e7c2"
      },
      "source": [
        "products_per_user"
      ],
      "execution_count": null,
      "outputs": [
        {
          "output_type": "execute_result",
          "data": {
            "text/plain": [
              "UserId\n",
              "A3KEZLJ59C1JVH           389\n",
              "A281NPSIMI1C2R           336\n",
              "A3M174IC0VXOS2           326\n",
              "A2V5R832QCSOMX           278\n",
              "A3LJLRIZL38GG3           276\n",
              "                        ... \n",
              "A3BQ47C773YMU1             1\n",
              "A3BQ3Y37XL049D             1\n",
              "A3BQ3NGQ3JJBR3             1\n",
              "A3BQ3BW37JKZZ4             1\n",
              "A00008821J0F472NDY6A2      1\n",
              "Name: Rating, Length: 1210271, dtype: int64"
            ]
          },
          "metadata": {
            "tags": []
          },
          "execution_count": 22
        }
      ]
    },
    {
      "cell_type": "code",
      "metadata": {
        "id": "xNUNi5vIeqkw",
        "colab": {
          "base_uri": "https://localhost:8080/"
        },
        "outputId": "51509ae0-fe41-464f-851c-336f11b40ce9"
      },
      "source": [
        "print('unique users =', df3['UserId'].nunique())"
      ],
      "execution_count": null,
      "outputs": [
        {
          "output_type": "stream",
          "text": [
            "unique users = 1210271\n"
          ],
          "name": "stdout"
        }
      ]
    },
    {
      "cell_type": "code",
      "metadata": {
        "colab": {
          "base_uri": "https://localhost:8080/"
        },
        "id": "QZPX6ZZvDpxF",
        "outputId": "2e2b766b-dfdf-400e-b7be-07006d45d6ca"
      },
      "source": [
        "print('unique product =', df3['ProductId'].nunique())"
      ],
      "execution_count": null,
      "outputs": [
        {
          "output_type": "stream",
          "text": [
            "unique product = 71056\n"
          ],
          "name": "stdout"
        }
      ]
    },
    {
      "cell_type": "code",
      "metadata": {
        "colab": {
          "base_uri": "https://localhost:8080/"
        },
        "id": "DgxLK6R9D4fD",
        "outputId": "4d8ff5e6-847e-4bd4-b160-fb80212ca16c"
      },
      "source": [
        "#Check the top 10 users based on ratings\r\n",
        "most_rated_product=rating_df.groupby('UserId').size().sort_values(ascending=False)[:10]\r\n",
        "print('Top 10 users based on ratings:\\n',most_rated_product)"
      ],
      "execution_count": null,
      "outputs": [
        {
          "output_type": "stream",
          "text": [
            "Top 10 users based on ratings:\n",
            " UserId\n",
            "A3KEZLJ59C1JVH    389\n",
            "A281NPSIMI1C2R    336\n",
            "A3M174IC0VXOS2    326\n",
            "A2V5R832QCSOMX    278\n",
            "A3LJLRIZL38GG3    276\n",
            "ALQGOMOY1F5X9     275\n",
            "AKMEY1BSHSDG7     269\n",
            "A3R9H6OKZHHRJD    259\n",
            "A1M04H40ZVGWVG    249\n",
            "A1RRMZKOMZ2M7J    225\n",
            "dtype: int64\n"
          ],
          "name": "stdout"
        }
      ]
    },
    {
      "cell_type": "code",
      "metadata": {
        "colab": {
          "base_uri": "https://localhost:8080/"
        },
        "id": "rjrVrMZFFcmd",
        "outputId": "f8031199-2110-4b25-8409-6bafcd73f4a6"
      },
      "source": [
        "counts=rating_df.UserId.value_counts()\r\n",
        "rating_df1=rating_df[rating_df.UserId.isin(counts[counts>=20].index)]\r\n",
        "print('Number of users who have rated 25 or more items =',len(rating_df1))\r\n",
        "print('Number of unique users in the final data = ', rating_df1['UserId'].nunique())\r\n",
        "print('Number of unique products in the final data = ', rating_df1['UserId'].nunique())"
      ],
      "execution_count": null,
      "outputs": [
        {
          "output_type": "stream",
          "text": [
            "Number of users who have rated 25 or more items = 97860\n",
            "Number of unique users in the final data =  2826\n",
            "Number of unique products in the final data =  2826\n"
          ],
          "name": "stdout"
        }
      ]
    },
    {
      "cell_type": "code",
      "metadata": {
        "id": "nPz5qnmUGQMB"
      },
      "source": [
        ""
      ],
      "execution_count": null,
      "outputs": []
    }
  ]
}