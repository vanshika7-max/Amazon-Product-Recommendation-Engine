{
  "nbformat": 4,
  "nbformat_minor": 0,
  "metadata": {
    "kernelspec": {
      "display_name": "Python 3",
      "language": "python",
      "name": "python3"
    },
    "language_info": {
      "codemirror_mode": {
        "name": "ipython",
        "version": 3
      },
      "file_extension": ".py",
      "mimetype": "text/x-python",
      "name": "python",
      "nbconvert_exporter": "python",
      "pygments_lexer": "ipython3",
      "version": "3.6.6"
    },
    "colab": {
      "name": "Vanshika Raj - Product Recommendation Engine - Capstone Project.ipynb",
      "provenance": [],
      "collapsed_sections": [],
      "include_colab_link": true
    }
  },
  "cells": [
    {
      "cell_type": "markdown",
      "metadata": {
        "id": "view-in-github",
        "colab_type": "text"
      },
      "source": [
        "<a href=\"https://colab.research.google.com/github/vanshika7-max/Amazon-Product-Recommendation-Engine/blob/main/Vanshika_Raj_Product_Recommendation_Engine_Capstone_Project.ipynb\" target=\"_parent\"><img src=\"https://colab.research.google.com/assets/colab-badge.svg\" alt=\"Open In Colab\"/></a>"
      ]
    },
    {
      "cell_type": "markdown",
      "metadata": {
        "id": "tOGC-qoyhJeX"
      },
      "source": [
        "# <b><u> Project Title : Build a recommender engine that reviews customer ratings and purchase history to recommend items and improve sales. </u></b>"
      ]
    },
    {
      "cell_type": "markdown",
      "metadata": {
        "id": "Y06xIdG26kRF"
      },
      "source": [
        "### Amazon.com is one of the largest electronic commerce and cloud computing companies.\n",
        "\n",
        "### Just a few Amazon related facts:\n",
        "\n",
        "### They lost $4.8 million in August 2013, when their website went down for 40 mins. They hold the patent on 1-Click buying, and licenses it to Apple. Their Phoenix fulfilment centre is a massive 1.2 million square feet. Amazon relies heavily on a Recommendation engine that reviews customer ratings and purchase history to recommend items and improve sales.\n",
        "\n",
        "\n",
        "### This is a dataset related to over 2 Million customer reviews and ratings of Beauty related products sold on their website.\n",
        "\n",
        "### It contains\n",
        "\n",
        "* ### the unique UserId (Customer Identification),\n",
        "* ### the product ASIN (Amazon's unique product identification code for each product),\n",
        "* ### Ratings (ranging from 1-5 based on customer satisfaction) and\n",
        "* ### the Timestamp of the rating (in UNIX time)\n",
        "\n",
        "### This dataset contains product reviews and metadata from Amazon, including 142.8 million reviews spanning May 1996 - July 2014.\n",
        "\n",
        "### This dataset includes reviews (ratings, text, helpfulness votes), product metadata (descriptions, category information, price, brand, and image features), and links (also viewed/also bought graphs).\n"
      ]
    },
    {
      "cell_type": "code",
      "metadata": {
        "id": "8wyTheqLQUTE"
      },
      "source": [
        "\r\n",
        "import numpy as np\r\n",
        "import scipy\r\n",
        "import pandas as pd\r\n",
        "import math\r\n",
        "import random\r\n",
        "import sklearn\r\n",
        "from nltk.corpus import stopwords\r\n",
        "from sklearn.model_selection import train_test_split\r\n",
        "from sklearn.feature_extraction.text import TfidfVectorizer\r\n",
        "from sklearn.metrics.pairwise import cosine_similarity\r\n",
        "from scipy.sparse.linalg import svds\r\n",
        "import matplotlib.pyplot as plt\r\n",
        "from nltk.corpus import stopwords\r\n",
        "from sklearn.model_selection import train_test_split\r\n",
        "from sklearn.feature_extraction.text import TfidfVectorizer,CountVectorizer\r\n",
        "from sklearn.preprocessing import normalize\r\n",
        "from sklearn.metrics.pairwise import cosine_similarity\r\n",
        "from scipy.sparse.linalg import svds\r\n",
        "import matplotlib.pyplot as plt"
      ],
      "execution_count": 33,
      "outputs": []
    },
    {
      "cell_type": "code",
      "metadata": {
        "colab": {
          "base_uri": "https://localhost:8080/"
        },
        "id": "GilG96E8AOMn",
        "outputId": "ff836810-c1fc-45a8-c14b-d083678854db"
      },
      "source": [
        "from google.colab import drive\r\n",
        "drive.mount('/content/drive')"
      ],
      "execution_count": 2,
      "outputs": [
        {
          "output_type": "stream",
          "text": [
            "Mounted at /content/drive\n"
          ],
          "name": "stdout"
        }
      ]
    },
    {
      "cell_type": "code",
      "metadata": {
        "colab": {
          "base_uri": "https://localhost:8080/",
          "height": 210
        },
        "id": "pPIL7PIaARXA",
        "outputId": "1cd92202-a816-47ce-8e5c-f1e02c525356"
      },
      "source": [
        "# Load the dataset\r\n",
        "rating_df = pd.read_csv('/content/drive/MyDrive/AlmaBetter/Cohort Aravali/Module 4/Week 4/ratings_Beauty.csv')\r\n",
        "\r\n",
        "rating_json = pd.read_json('/content/drive/MyDrive/AlmaBetter/Cohort Aravali/Module 4/Week 4/reviews_Beauty_5.json.gz', compression='infer',lines = True)\r\n",
        "\r\n",
        "\r\n",
        "rating_df.head()"
      ],
      "execution_count": 3,
      "outputs": [
        {
          "output_type": "execute_result",
          "data": {
            "text/html": [
              "<div>\n",
              "<style scoped>\n",
              "    .dataframe tbody tr th:only-of-type {\n",
              "        vertical-align: middle;\n",
              "    }\n",
              "\n",
              "    .dataframe tbody tr th {\n",
              "        vertical-align: top;\n",
              "    }\n",
              "\n",
              "    .dataframe thead th {\n",
              "        text-align: right;\n",
              "    }\n",
              "</style>\n",
              "<table border=\"1\" class=\"dataframe\">\n",
              "  <thead>\n",
              "    <tr style=\"text-align: right;\">\n",
              "      <th></th>\n",
              "      <th>UserId</th>\n",
              "      <th>ProductId</th>\n",
              "      <th>Rating</th>\n",
              "      <th>Timestamp</th>\n",
              "    </tr>\n",
              "  </thead>\n",
              "  <tbody>\n",
              "    <tr>\n",
              "      <th>0</th>\n",
              "      <td>A39HTATAQ9V7YF</td>\n",
              "      <td>0205616461</td>\n",
              "      <td>5.0</td>\n",
              "      <td>1369699200</td>\n",
              "    </tr>\n",
              "    <tr>\n",
              "      <th>1</th>\n",
              "      <td>A3JM6GV9MNOF9X</td>\n",
              "      <td>0558925278</td>\n",
              "      <td>3.0</td>\n",
              "      <td>1355443200</td>\n",
              "    </tr>\n",
              "    <tr>\n",
              "      <th>2</th>\n",
              "      <td>A1Z513UWSAAO0F</td>\n",
              "      <td>0558925278</td>\n",
              "      <td>5.0</td>\n",
              "      <td>1404691200</td>\n",
              "    </tr>\n",
              "    <tr>\n",
              "      <th>3</th>\n",
              "      <td>A1WMRR494NWEWV</td>\n",
              "      <td>0733001998</td>\n",
              "      <td>4.0</td>\n",
              "      <td>1382572800</td>\n",
              "    </tr>\n",
              "    <tr>\n",
              "      <th>4</th>\n",
              "      <td>A3IAAVS479H7M7</td>\n",
              "      <td>0737104473</td>\n",
              "      <td>1.0</td>\n",
              "      <td>1274227200</td>\n",
              "    </tr>\n",
              "  </tbody>\n",
              "</table>\n",
              "</div>"
            ],
            "text/plain": [
              "           UserId   ProductId  Rating   Timestamp\n",
              "0  A39HTATAQ9V7YF  0205616461     5.0  1369699200\n",
              "1  A3JM6GV9MNOF9X  0558925278     3.0  1355443200\n",
              "2  A1Z513UWSAAO0F  0558925278     5.0  1404691200\n",
              "3  A1WMRR494NWEWV  0733001998     4.0  1382572800\n",
              "4  A3IAAVS479H7M7  0737104473     1.0  1274227200"
            ]
          },
          "metadata": {
            "tags": []
          },
          "execution_count": 3
        }
      ]
    },
    {
      "cell_type": "code",
      "metadata": {
        "colab": {
          "base_uri": "https://localhost:8080/",
          "height": 210
        },
        "id": "lmGTuaDoJ_rs",
        "outputId": "8db35d70-e097-4269-de92-a421c4a8a317"
      },
      "source": [
        "rating_json.head()"
      ],
      "execution_count": 4,
      "outputs": [
        {
          "output_type": "execute_result",
          "data": {
            "text/html": [
              "<div>\n",
              "<style scoped>\n",
              "    .dataframe tbody tr th:only-of-type {\n",
              "        vertical-align: middle;\n",
              "    }\n",
              "\n",
              "    .dataframe tbody tr th {\n",
              "        vertical-align: top;\n",
              "    }\n",
              "\n",
              "    .dataframe thead th {\n",
              "        text-align: right;\n",
              "    }\n",
              "</style>\n",
              "<table border=\"1\" class=\"dataframe\">\n",
              "  <thead>\n",
              "    <tr style=\"text-align: right;\">\n",
              "      <th></th>\n",
              "      <th>reviewerID</th>\n",
              "      <th>asin</th>\n",
              "      <th>reviewerName</th>\n",
              "      <th>helpful</th>\n",
              "      <th>reviewText</th>\n",
              "      <th>overall</th>\n",
              "      <th>summary</th>\n",
              "      <th>unixReviewTime</th>\n",
              "      <th>reviewTime</th>\n",
              "    </tr>\n",
              "  </thead>\n",
              "  <tbody>\n",
              "    <tr>\n",
              "      <th>0</th>\n",
              "      <td>A1YJEY40YUW4SE</td>\n",
              "      <td>7806397051</td>\n",
              "      <td>Andrea</td>\n",
              "      <td>[3, 4]</td>\n",
              "      <td>Very oily and creamy. Not at all what I expect...</td>\n",
              "      <td>1</td>\n",
              "      <td>Don't waste your money</td>\n",
              "      <td>1391040000</td>\n",
              "      <td>01 30, 2014</td>\n",
              "    </tr>\n",
              "    <tr>\n",
              "      <th>1</th>\n",
              "      <td>A60XNB876KYML</td>\n",
              "      <td>7806397051</td>\n",
              "      <td>Jessica H.</td>\n",
              "      <td>[1, 1]</td>\n",
              "      <td>This palette was a decent price and I was look...</td>\n",
              "      <td>3</td>\n",
              "      <td>OK Palette!</td>\n",
              "      <td>1397779200</td>\n",
              "      <td>04 18, 2014</td>\n",
              "    </tr>\n",
              "    <tr>\n",
              "      <th>2</th>\n",
              "      <td>A3G6XNM240RMWA</td>\n",
              "      <td>7806397051</td>\n",
              "      <td>Karen</td>\n",
              "      <td>[0, 1]</td>\n",
              "      <td>The texture of this concealer pallet is fantas...</td>\n",
              "      <td>4</td>\n",
              "      <td>great quality</td>\n",
              "      <td>1378425600</td>\n",
              "      <td>09 6, 2013</td>\n",
              "    </tr>\n",
              "    <tr>\n",
              "      <th>3</th>\n",
              "      <td>A1PQFP6SAJ6D80</td>\n",
              "      <td>7806397051</td>\n",
              "      <td>Norah</td>\n",
              "      <td>[2, 2]</td>\n",
              "      <td>I really can't tell what exactly this thing is...</td>\n",
              "      <td>2</td>\n",
              "      <td>Do not work on my face</td>\n",
              "      <td>1386460800</td>\n",
              "      <td>12 8, 2013</td>\n",
              "    </tr>\n",
              "    <tr>\n",
              "      <th>4</th>\n",
              "      <td>A38FVHZTNQ271F</td>\n",
              "      <td>7806397051</td>\n",
              "      <td>Nova Amor</td>\n",
              "      <td>[0, 0]</td>\n",
              "      <td>It was a little smaller than I expected, but t...</td>\n",
              "      <td>3</td>\n",
              "      <td>It's okay.</td>\n",
              "      <td>1382140800</td>\n",
              "      <td>10 19, 2013</td>\n",
              "    </tr>\n",
              "  </tbody>\n",
              "</table>\n",
              "</div>"
            ],
            "text/plain": [
              "       reviewerID        asin  ... unixReviewTime   reviewTime\n",
              "0  A1YJEY40YUW4SE  7806397051  ...     1391040000  01 30, 2014\n",
              "1   A60XNB876KYML  7806397051  ...     1397779200  04 18, 2014\n",
              "2  A3G6XNM240RMWA  7806397051  ...     1378425600   09 6, 2013\n",
              "3  A1PQFP6SAJ6D80  7806397051  ...     1386460800   12 8, 2013\n",
              "4  A38FVHZTNQ271F  7806397051  ...     1382140800  10 19, 2013\n",
              "\n",
              "[5 rows x 9 columns]"
            ]
          },
          "metadata": {
            "tags": []
          },
          "execution_count": 4
        }
      ]
    },
    {
      "cell_type": "code",
      "metadata": {
        "colab": {
          "base_uri": "https://localhost:8080/"
        },
        "id": "LuFQKZPqAvmx",
        "outputId": "269dadce-b908-424f-c83e-f5d289f70228"
      },
      "source": [
        "rating_json.info()"
      ],
      "execution_count": 5,
      "outputs": [
        {
          "output_type": "stream",
          "text": [
            "<class 'pandas.core.frame.DataFrame'>\n",
            "RangeIndex: 198502 entries, 0 to 198501\n",
            "Data columns (total 9 columns):\n",
            " #   Column          Non-Null Count   Dtype \n",
            "---  ------          --------------   ----- \n",
            " 0   reviewerID      198502 non-null  object\n",
            " 1   asin            198502 non-null  object\n",
            " 2   reviewerName    197116 non-null  object\n",
            " 3   helpful         198502 non-null  object\n",
            " 4   reviewText      198502 non-null  object\n",
            " 5   overall         198502 non-null  int64 \n",
            " 6   summary         198502 non-null  object\n",
            " 7   unixReviewTime  198502 non-null  int64 \n",
            " 8   reviewTime      198502 non-null  object\n",
            "dtypes: int64(2), object(7)\n",
            "memory usage: 13.6+ MB\n"
          ],
          "name": "stdout"
        }
      ]
    },
    {
      "cell_type": "code",
      "metadata": {
        "colab": {
          "base_uri": "https://localhost:8080/"
        },
        "id": "GRSknHOLA4jQ",
        "outputId": "df144f19-3b74-4df6-bbd0-c34420071171"
      },
      "source": [
        "rating_json.reviewerID.unique()"
      ],
      "execution_count": 6,
      "outputs": [
        {
          "output_type": "execute_result",
          "data": {
            "text/plain": [
              "array(['A1YJEY40YUW4SE', 'A60XNB876KYML', 'A3G6XNM240RMWA', ...,\n",
              "       'A3L85FTL937CEC', 'A1QAWMPT3S6YIB', 'A2CG5Y82ZZNY6W'], dtype=object)"
            ]
          },
          "metadata": {
            "tags": []
          },
          "execution_count": 6
        }
      ]
    },
    {
      "cell_type": "code",
      "metadata": {
        "colab": {
          "base_uri": "https://localhost:8080/"
        },
        "id": "Sa_LqNioNm7H",
        "outputId": "598b0796-9361-4154-af45-cca555b9d557"
      },
      "source": [
        "rating_json['reviewerID'].value_counts()"
      ],
      "execution_count": 7,
      "outputs": [
        {
          "output_type": "execute_result",
          "data": {
            "text/plain": [
              "A2V5R832QCSOMX    204\n",
              "ALNFHVS3SC4FV     192\n",
              "AKMEY1BSHSDG7     182\n",
              "A3KEZLJ59C1JVH    154\n",
              "ALQGOMOY1F5X9     150\n",
              "                 ... \n",
              "A3JX37OEQSJJI4      5\n",
              "AS931911L2UNG       5\n",
              "ANPT0AUG3Y9P4       5\n",
              "A1HZ0O1W3U7W62      5\n",
              "ANOJX4RAUJ9HL       5\n",
              "Name: reviewerID, Length: 22363, dtype: int64"
            ]
          },
          "metadata": {
            "tags": []
          },
          "execution_count": 7
        }
      ]
    },
    {
      "cell_type": "code",
      "metadata": {
        "id": "p49jEfxpU2tb"
      },
      "source": [
        "products_per_user = rating_json.groupby(by='reviewerID')['overall'].count().sort_values(ascending=False)"
      ],
      "execution_count": 8,
      "outputs": []
    },
    {
      "cell_type": "code",
      "metadata": {
        "colab": {
          "base_uri": "https://localhost:8080/"
        },
        "id": "Xx3y2yWfeiIB",
        "outputId": "204ec0e9-bce3-4e0d-f061-19b021cea733"
      },
      "source": [
        "products_per_user"
      ],
      "execution_count": 9,
      "outputs": [
        {
          "output_type": "execute_result",
          "data": {
            "text/plain": [
              "reviewerID\n",
              "A2V5R832QCSOMX    204\n",
              "ALNFHVS3SC4FV     192\n",
              "AKMEY1BSHSDG7     182\n",
              "A3KEZLJ59C1JVH    154\n",
              "ALQGOMOY1F5X9     150\n",
              "                 ... \n",
              "A3G78MIYEFPHEC      5\n",
              "A20H1A2Q7LO87Z      5\n",
              "A3G6TBNZG4XC75      5\n",
              "A20H2Q6KA5D4B3      5\n",
              "A1TQ2IR4LZWJDI      5\n",
              "Name: overall, Length: 22363, dtype: int64"
            ]
          },
          "metadata": {
            "tags": []
          },
          "execution_count": 9
        }
      ]
    },
    {
      "cell_type": "code",
      "metadata": {
        "id": "xNUNi5vIeqkw",
        "colab": {
          "base_uri": "https://localhost:8080/"
        },
        "outputId": "e95ad08a-0011-48ee-ba89-c037d3875457"
      },
      "source": [
        "print('unique users =', rating_json['reviewerID'].nunique())"
      ],
      "execution_count": 10,
      "outputs": [
        {
          "output_type": "stream",
          "text": [
            "unique users = 22363\n"
          ],
          "name": "stdout"
        }
      ]
    },
    {
      "cell_type": "code",
      "metadata": {
        "colab": {
          "base_uri": "https://localhost:8080/"
        },
        "id": "QZPX6ZZvDpxF",
        "outputId": "a178df05-14e7-427b-f63f-b9f10014fd76"
      },
      "source": [
        "print('unique product =', rating_json['asin'].nunique())"
      ],
      "execution_count": 11,
      "outputs": [
        {
          "output_type": "stream",
          "text": [
            "unique product = 12101\n"
          ],
          "name": "stdout"
        }
      ]
    },
    {
      "cell_type": "code",
      "metadata": {
        "colab": {
          "base_uri": "https://localhost:8080/"
        },
        "id": "DgxLK6R9D4fD",
        "outputId": "5d17f5b0-ab10-4d4d-bd03-e3f2440d2893"
      },
      "source": [
        "#Check the top 10 users based on ratings\r\n",
        "most_rated_product=rating_json.groupby('reviewerID').size().sort_values(ascending=False)[:10]\r\n",
        "print('Top 10 users based on ratings:\\n',most_rated_product)"
      ],
      "execution_count": 12,
      "outputs": [
        {
          "output_type": "stream",
          "text": [
            "Top 10 users based on ratings:\n",
            " reviewerID\n",
            "A2V5R832QCSOMX    204\n",
            "ALNFHVS3SC4FV     192\n",
            "AKMEY1BSHSDG7     182\n",
            "A3KEZLJ59C1JVH    154\n",
            "ALQGOMOY1F5X9     150\n",
            "A1UQBFCERIP7VJ    149\n",
            "A34BZM6S9L7QI4    149\n",
            "A3NHUQ33CFH3VM    131\n",
            "AEL6CQNQXONBX     123\n",
            "A281NPSIMI1C2R    119\n",
            "dtype: int64\n"
          ],
          "name": "stdout"
        }
      ]
    },
    {
      "cell_type": "code",
      "metadata": {
        "colab": {
          "base_uri": "https://localhost:8080/"
        },
        "id": "rjrVrMZFFcmd",
        "outputId": "55c23a62-158a-4684-9c7a-1be0abfa4bd6"
      },
      "source": [
        "counts=rating_json.reviewerID.value_counts()\r\n",
        "json1=rating_json[rating_json.reviewerID.isin(counts[counts>=30].index)]\r\n",
        "print('Number of users who have rated 30 or more items =',len(json1))\r\n",
        "print('Number of unique users in the final data = ', json1['reviewerID'].nunique())\r\n",
        "print('Number of unique products in the final data = ', json1['asin'].nunique())"
      ],
      "execution_count": 13,
      "outputs": [
        {
          "output_type": "stream",
          "text": [
            "Number of users who have rated 30 or more items = 25052\n",
            "Number of unique users in the final data =  519\n",
            "Number of unique products in the final data =  6753\n"
          ],
          "name": "stdout"
        }
      ]
    },
    {
      "cell_type": "code",
      "metadata": {
        "id": "nPz5qnmUGQMB",
        "colab": {
          "base_uri": "https://localhost:8080/"
        },
        "outputId": "0c004a85-dd66-4769-d10e-2fd84c8f7b86"
      },
      "source": [
        "rating_json.shape"
      ],
      "execution_count": 14,
      "outputs": [
        {
          "output_type": "execute_result",
          "data": {
            "text/plain": [
              "(198502, 9)"
            ]
          },
          "metadata": {
            "tags": []
          },
          "execution_count": 14
        }
      ]
    },
    {
      "cell_type": "code",
      "metadata": {
        "colab": {
          "base_uri": "https://localhost:8080/"
        },
        "id": "Hxq9eN_qGzer",
        "outputId": "d8102943-ab13-4291-cb9a-5991d00c81dd"
      },
      "source": [
        "rating_json.isna().sum()"
      ],
      "execution_count": 15,
      "outputs": [
        {
          "output_type": "execute_result",
          "data": {
            "text/plain": [
              "reviewerID           0\n",
              "asin                 0\n",
              "reviewerName      1386\n",
              "helpful              0\n",
              "reviewText           0\n",
              "overall              0\n",
              "summary              0\n",
              "unixReviewTime       0\n",
              "reviewTime           0\n",
              "dtype: int64"
            ]
          },
          "metadata": {
            "tags": []
          },
          "execution_count": 15
        }
      ]
    },
    {
      "cell_type": "code",
      "metadata": {
        "colab": {
          "base_uri": "https://localhost:8080/"
        },
        "id": "Jcxm3EMkG42O",
        "outputId": "4aae4449-84f2-4fb1-8622-58538a8f2c3c"
      },
      "source": [
        "rating_json['reviewText']"
      ],
      "execution_count": 16,
      "outputs": [
        {
          "output_type": "execute_result",
          "data": {
            "text/plain": [
              "0         Very oily and creamy. Not at all what I expect...\n",
              "1         This palette was a decent price and I was look...\n",
              "2         The texture of this concealer pallet is fantas...\n",
              "3         I really can't tell what exactly this thing is...\n",
              "4         It was a little smaller than I expected, but t...\n",
              "                                ...                        \n",
              "198497    Just a little dab of this shea butter should b...\n",
              "198498    This shea butter is completely raw and unrefin...\n",
              "198499    The skin is the body's largest organ and it ab...\n",
              "198500    I have very dry elbows and knees.  I have a to...\n",
              "198501    This is 100% pure Shea Butter. Do not mistake ...\n",
              "Name: reviewText, Length: 198502, dtype: object"
            ]
          },
          "metadata": {
            "tags": []
          },
          "execution_count": 16
        }
      ]
    },
    {
      "cell_type": "markdown",
      "metadata": {
        "id": "7I1QOZGcH7RC"
      },
      "source": [
        ""
      ]
    },
    {
      "cell_type": "code",
      "metadata": {
        "id": "7tUiX9BGHzXp"
      },
      "source": [
        "from sklearn.feature_extraction.text import TfidfVectorizer\r\n",
        "tfv = TfidfVectorizer(max_features=None,\r\n",
        "                     strip_accents='unicode',\r\n",
        "                     analyzer='word',\r\n",
        "                     min_df=10,\r\n",
        "                     token_pattern=r'\\w{1,}',\r\n",
        "                     ngram_range=(1,3),                              #take the combination of 1-3 different kind of words\r\n",
        "                     stop_words='english')                           #removes all the unnecessary characters like the,in etc.\r\n",
        "rating_json['reviewText'] = rating_json['reviewText'].fillna('')"
      ],
      "execution_count": 17,
      "outputs": []
    },
    {
      "cell_type": "code",
      "metadata": {
        "id": "cgmuKAVqIF-R"
      },
      "source": [
        "#fitting the reviewText column.\r\n",
        "tfv_matrix = tfv.fit_transform(rating_json['reviewText'])            #converting everything to sparse matrix."
      ],
      "execution_count": null,
      "outputs": []
    },
    {
      "cell_type": "code",
      "metadata": {
        "colab": {
          "base_uri": "https://localhost:8080/"
        },
        "id": "j-_E38dgIP0Q",
        "outputId": "cdc2803a-073d-4c87-a367-5dd23fe9a7df"
      },
      "source": [
        "tfv_matrix"
      ],
      "execution_count": null,
      "outputs": [
        {
          "output_type": "execute_result",
          "data": {
            "text/plain": [
              "<198502x149430 sparse matrix of type '<class 'numpy.float64'>'\n",
              "\twith 11739635 stored elements in Compressed Sparse Row format>"
            ]
          },
          "metadata": {
            "tags": []
          },
          "execution_count": 25
        }
      ]
    },
    {
      "cell_type": "code",
      "metadata": {
        "colab": {
          "base_uri": "https://localhost:8080/"
        },
        "id": "O1ayO32LIqHK",
        "outputId": "2557b073-c8fb-4bd7-8d66-df7639856ed6"
      },
      "source": [
        "tfv_matrix.shape"
      ],
      "execution_count": null,
      "outputs": [
        {
          "output_type": "execute_result",
          "data": {
            "text/plain": [
              "(198502, 149430)"
            ]
          },
          "metadata": {
            "tags": []
          },
          "execution_count": 26
        }
      ]
    },
    {
      "cell_type": "code",
      "metadata": {
        "colab": {
          "base_uri": "https://localhost:8080/",
          "height": 359
        },
        "id": "pGjVYdWHIjea",
        "outputId": "a87f70fd-2f93-4e98-cc32-64681167af11"
      },
      "source": [
        "from sklearn.metrics.pairwise import sigmoid_kernel\r\n",
        "sig = sigmoid_kernel(tfv_matrix,tfv_matrix)                           #how description of first product is related to first product and so on."
      ],
      "execution_count": null,
      "outputs": [
        {
          "output_type": "error",
          "ename": "KeyboardInterrupt",
          "evalue": "ignored",
          "traceback": [
            "\u001b[0;31m---------------------------------------------------------------------------\u001b[0m",
            "\u001b[0;31mKeyboardInterrupt\u001b[0m                         Traceback (most recent call last)",
            "\u001b[0;32m<ipython-input-27-203b380f8773>\u001b[0m in \u001b[0;36m<module>\u001b[0;34m()\u001b[0m\n\u001b[1;32m      1\u001b[0m \u001b[0;32mfrom\u001b[0m \u001b[0msklearn\u001b[0m\u001b[0;34m.\u001b[0m\u001b[0mmetrics\u001b[0m\u001b[0;34m.\u001b[0m\u001b[0mpairwise\u001b[0m \u001b[0;32mimport\u001b[0m \u001b[0msigmoid_kernel\u001b[0m\u001b[0;34m\u001b[0m\u001b[0;34m\u001b[0m\u001b[0m\n\u001b[0;32m----> 2\u001b[0;31m \u001b[0msig\u001b[0m \u001b[0;34m=\u001b[0m \u001b[0msigmoid_kernel\u001b[0m\u001b[0;34m(\u001b[0m\u001b[0mtfv_matrix\u001b[0m\u001b[0;34m,\u001b[0m\u001b[0mtfv_matrix\u001b[0m\u001b[0;34m)\u001b[0m                           \u001b[0;31m#how description of first product is related to first product and so on.\u001b[0m\u001b[0;34m\u001b[0m\u001b[0;34m\u001b[0m\u001b[0m\n\u001b[0m",
            "\u001b[0;32m/usr/local/lib/python3.6/dist-packages/sklearn/metrics/pairwise.py\u001b[0m in \u001b[0;36msigmoid_kernel\u001b[0;34m(X, Y, gamma, coef0)\u001b[0m\n\u001b[1;32m   1056\u001b[0m         \u001b[0mgamma\u001b[0m \u001b[0;34m=\u001b[0m \u001b[0;36m1.0\u001b[0m \u001b[0;34m/\u001b[0m \u001b[0mX\u001b[0m\u001b[0;34m.\u001b[0m\u001b[0mshape\u001b[0m\u001b[0;34m[\u001b[0m\u001b[0;36m1\u001b[0m\u001b[0;34m]\u001b[0m\u001b[0;34m\u001b[0m\u001b[0;34m\u001b[0m\u001b[0m\n\u001b[1;32m   1057\u001b[0m \u001b[0;34m\u001b[0m\u001b[0m\n\u001b[0;32m-> 1058\u001b[0;31m     \u001b[0mK\u001b[0m \u001b[0;34m=\u001b[0m \u001b[0msafe_sparse_dot\u001b[0m\u001b[0;34m(\u001b[0m\u001b[0mX\u001b[0m\u001b[0;34m,\u001b[0m \u001b[0mY\u001b[0m\u001b[0;34m.\u001b[0m\u001b[0mT\u001b[0m\u001b[0;34m,\u001b[0m \u001b[0mdense_output\u001b[0m\u001b[0;34m=\u001b[0m\u001b[0;32mTrue\u001b[0m\u001b[0;34m)\u001b[0m\u001b[0;34m\u001b[0m\u001b[0;34m\u001b[0m\u001b[0m\n\u001b[0m\u001b[1;32m   1059\u001b[0m     \u001b[0mK\u001b[0m \u001b[0;34m*=\u001b[0m \u001b[0mgamma\u001b[0m\u001b[0;34m\u001b[0m\u001b[0;34m\u001b[0m\u001b[0m\n\u001b[1;32m   1060\u001b[0m     \u001b[0mK\u001b[0m \u001b[0;34m+=\u001b[0m \u001b[0mcoef0\u001b[0m\u001b[0;34m\u001b[0m\u001b[0;34m\u001b[0m\u001b[0m\n",
            "\u001b[0;32m/usr/local/lib/python3.6/dist-packages/sklearn/utils/extmath.py\u001b[0m in \u001b[0;36msafe_sparse_dot\u001b[0;34m(a, b, dense_output)\u001b[0m\n\u001b[1;32m    149\u001b[0m             \u001b[0mret\u001b[0m \u001b[0;34m=\u001b[0m \u001b[0mnp\u001b[0m\u001b[0;34m.\u001b[0m\u001b[0mdot\u001b[0m\u001b[0;34m(\u001b[0m\u001b[0ma\u001b[0m\u001b[0;34m,\u001b[0m \u001b[0mb\u001b[0m\u001b[0;34m)\u001b[0m\u001b[0;34m\u001b[0m\u001b[0;34m\u001b[0m\u001b[0m\n\u001b[1;32m    150\u001b[0m     \u001b[0;32melse\u001b[0m\u001b[0;34m:\u001b[0m\u001b[0;34m\u001b[0m\u001b[0;34m\u001b[0m\u001b[0m\n\u001b[0;32m--> 151\u001b[0;31m         \u001b[0mret\u001b[0m \u001b[0;34m=\u001b[0m \u001b[0ma\u001b[0m \u001b[0;34m@\u001b[0m \u001b[0mb\u001b[0m\u001b[0;34m\u001b[0m\u001b[0;34m\u001b[0m\u001b[0m\n\u001b[0m\u001b[1;32m    152\u001b[0m \u001b[0;34m\u001b[0m\u001b[0m\n\u001b[1;32m    153\u001b[0m     if (sparse.issparse(a) and sparse.issparse(b)\n",
            "\u001b[0;32m/usr/local/lib/python3.6/dist-packages/scipy/sparse/base.py\u001b[0m in \u001b[0;36m__matmul__\u001b[0;34m(self, other)\u001b[0m\n\u001b[1;32m    562\u001b[0m             raise ValueError(\"Scalar operands are not allowed, \"\n\u001b[1;32m    563\u001b[0m                              \"use '*' instead\")\n\u001b[0;32m--> 564\u001b[0;31m         \u001b[0;32mreturn\u001b[0m \u001b[0mself\u001b[0m\u001b[0;34m.\u001b[0m\u001b[0m__mul__\u001b[0m\u001b[0;34m(\u001b[0m\u001b[0mother\u001b[0m\u001b[0;34m)\u001b[0m\u001b[0;34m\u001b[0m\u001b[0;34m\u001b[0m\u001b[0m\n\u001b[0m\u001b[1;32m    565\u001b[0m \u001b[0;34m\u001b[0m\u001b[0m\n\u001b[1;32m    566\u001b[0m     \u001b[0;32mdef\u001b[0m \u001b[0m__rmatmul__\u001b[0m\u001b[0;34m(\u001b[0m\u001b[0mself\u001b[0m\u001b[0;34m,\u001b[0m \u001b[0mother\u001b[0m\u001b[0;34m)\u001b[0m\u001b[0;34m:\u001b[0m\u001b[0;34m\u001b[0m\u001b[0;34m\u001b[0m\u001b[0m\n",
            "\u001b[0;32m/usr/local/lib/python3.6/dist-packages/scipy/sparse/base.py\u001b[0m in \u001b[0;36m__mul__\u001b[0;34m(self, other)\u001b[0m\n\u001b[1;32m    482\u001b[0m             \u001b[0;32mif\u001b[0m \u001b[0mself\u001b[0m\u001b[0;34m.\u001b[0m\u001b[0mshape\u001b[0m\u001b[0;34m[\u001b[0m\u001b[0;36m1\u001b[0m\u001b[0;34m]\u001b[0m \u001b[0;34m!=\u001b[0m \u001b[0mother\u001b[0m\u001b[0;34m.\u001b[0m\u001b[0mshape\u001b[0m\u001b[0;34m[\u001b[0m\u001b[0;36m0\u001b[0m\u001b[0;34m]\u001b[0m\u001b[0;34m:\u001b[0m\u001b[0;34m\u001b[0m\u001b[0;34m\u001b[0m\u001b[0m\n\u001b[1;32m    483\u001b[0m                 \u001b[0;32mraise\u001b[0m \u001b[0mValueError\u001b[0m\u001b[0;34m(\u001b[0m\u001b[0;34m'dimension mismatch'\u001b[0m\u001b[0;34m)\u001b[0m\u001b[0;34m\u001b[0m\u001b[0;34m\u001b[0m\u001b[0m\n\u001b[0;32m--> 484\u001b[0;31m             \u001b[0;32mreturn\u001b[0m \u001b[0mself\u001b[0m\u001b[0;34m.\u001b[0m\u001b[0m_mul_sparse_matrix\u001b[0m\u001b[0;34m(\u001b[0m\u001b[0mother\u001b[0m\u001b[0;34m)\u001b[0m\u001b[0;34m\u001b[0m\u001b[0;34m\u001b[0m\u001b[0m\n\u001b[0m\u001b[1;32m    485\u001b[0m \u001b[0;34m\u001b[0m\u001b[0m\n\u001b[1;32m    486\u001b[0m         \u001b[0;31m# If it's a list or whatever, treat it like a matrix\u001b[0m\u001b[0;34m\u001b[0m\u001b[0;34m\u001b[0m\u001b[0;34m\u001b[0m\u001b[0m\n",
            "\u001b[0;32m/usr/local/lib/python3.6/dist-packages/scipy/sparse/compressed.py\u001b[0m in \u001b[0;36m_mul_sparse_matrix\u001b[0;34m(self, other)\u001b[0m\n\u001b[1;32m    507\u001b[0m            \u001b[0mnp\u001b[0m\u001b[0;34m.\u001b[0m\u001b[0masarray\u001b[0m\u001b[0;34m(\u001b[0m\u001b[0mother\u001b[0m\u001b[0;34m.\u001b[0m\u001b[0mindptr\u001b[0m\u001b[0;34m,\u001b[0m \u001b[0mdtype\u001b[0m\u001b[0;34m=\u001b[0m\u001b[0midx_dtype\u001b[0m\u001b[0;34m)\u001b[0m\u001b[0;34m,\u001b[0m\u001b[0;34m\u001b[0m\u001b[0;34m\u001b[0m\u001b[0m\n\u001b[1;32m    508\u001b[0m            \u001b[0mnp\u001b[0m\u001b[0;34m.\u001b[0m\u001b[0masarray\u001b[0m\u001b[0;34m(\u001b[0m\u001b[0mother\u001b[0m\u001b[0;34m.\u001b[0m\u001b[0mindices\u001b[0m\u001b[0;34m,\u001b[0m \u001b[0mdtype\u001b[0m\u001b[0;34m=\u001b[0m\u001b[0midx_dtype\u001b[0m\u001b[0;34m)\u001b[0m\u001b[0;34m,\u001b[0m\u001b[0;34m\u001b[0m\u001b[0;34m\u001b[0m\u001b[0m\n\u001b[0;32m--> 509\u001b[0;31m            indptr)\n\u001b[0m\u001b[1;32m    510\u001b[0m \u001b[0;34m\u001b[0m\u001b[0m\n\u001b[1;32m    511\u001b[0m         \u001b[0mnnz\u001b[0m \u001b[0;34m=\u001b[0m \u001b[0mindptr\u001b[0m\u001b[0;34m[\u001b[0m\u001b[0;34m-\u001b[0m\u001b[0;36m1\u001b[0m\u001b[0;34m]\u001b[0m\u001b[0;34m\u001b[0m\u001b[0;34m\u001b[0m\u001b[0m\n",
            "\u001b[0;31mKeyboardInterrupt\u001b[0m: "
          ]
        }
      ]
    },
    {
      "cell_type": "code",
      "metadata": {
        "colab": {
          "base_uri": "https://localhost:8080/",
          "height": 182
        },
        "id": "8mCjIVOKIkYH",
        "outputId": "1d42edeb-2433-4701-d5cd-204b8d83f5dc"
      },
      "source": [
        "sig[0]"
      ],
      "execution_count": null,
      "outputs": [
        {
          "output_type": "error",
          "ename": "NameError",
          "evalue": "ignored",
          "traceback": [
            "\u001b[0;31m---------------------------------------------------------------------------\u001b[0m",
            "\u001b[0;31mNameError\u001b[0m                                 Traceback (most recent call last)",
            "\u001b[0;32m<ipython-input-28-9160127c1191>\u001b[0m in \u001b[0;36m<module>\u001b[0;34m()\u001b[0m\n\u001b[0;32m----> 1\u001b[0;31m \u001b[0msig\u001b[0m\u001b[0;34m[\u001b[0m\u001b[0;36m0\u001b[0m\u001b[0;34m]\u001b[0m\u001b[0;34m\u001b[0m\u001b[0;34m\u001b[0m\u001b[0m\n\u001b[0m",
            "\u001b[0;31mNameError\u001b[0m: name 'sig' is not defined"
          ]
        }
      ]
    },
    {
      "cell_type": "code",
      "metadata": {
        "id": "dUXYKnqhIkU1"
      },
      "source": [
        "indices = pd.Series(rating_json.reviewText.index,index=rating_json['overall']).drop_duplicates()"
      ],
      "execution_count": null,
      "outputs": []
    },
    {
      "cell_type": "code",
      "metadata": {
        "colab": {
          "base_uri": "https://localhost:8080/"
        },
        "id": "VYUVFSlrIkSE",
        "outputId": "232d36e0-8910-413f-963a-02a6304cce39"
      },
      "source": [
        "indices.head(20)"
      ],
      "execution_count": null,
      "outputs": [
        {
          "output_type": "execute_result",
          "data": {
            "text/plain": [
              "overall\n",
              "1     0\n",
              "3     1\n",
              "4     2\n",
              "2     3\n",
              "3     4\n",
              "5     5\n",
              "1     6\n",
              "2     7\n",
              "2     8\n",
              "3     9\n",
              "3    10\n",
              "1    11\n",
              "5    12\n",
              "1    13\n",
              "5    14\n",
              "2    15\n",
              "5    16\n",
              "4    17\n",
              "3    18\n",
              "5    19\n",
              "dtype: int64"
            ]
          },
          "metadata": {
            "tags": []
          },
          "execution_count": 34
        }
      ]
    },
    {
      "cell_type": "code",
      "metadata": {
        "colab": {
          "base_uri": "https://localhost:8080/",
          "height": 259
        },
        "id": "3roLdcO3IkPj",
        "outputId": "9a918e6c-0a27-4551-cd17-6c0d53a3fa67"
      },
      "source": [
        "def product_recommendation(title,sig=sig):\r\n",
        "    indx = indices[title]\r\n",
        "    \r\n",
        "    #getting pairwise similarity scores\r\n",
        "    sig_scores = list(enumerate(sig[indx]))\r\n",
        "    \r\n",
        "    #sorting products\r\n",
        "    sig_scores = sorted(sig_scores, key=lambda x: x[1], reverse=True)\r\n",
        "    \r\n",
        "    #10 most similar products score\r\n",
        "    sig_scores = sig_scores[1:11]\r\n",
        "    \r\n",
        "    #product indexes\r\n",
        "    product_indices = [i[0] for i in sig_scores]\r\n",
        "    \r\n",
        "    #Top 10 most similar products\r\n",
        "    return rating_json['product_name'].iloc[product_indices]"
      ],
      "execution_count": null,
      "outputs": [
        {
          "output_type": "error",
          "ename": "NameError",
          "evalue": "ignored",
          "traceback": [
            "\u001b[0;31m---------------------------------------------------------------------------\u001b[0m",
            "\u001b[0;31mNameError\u001b[0m                                 Traceback (most recent call last)",
            "\u001b[0;32m<ipython-input-35-d21fe0466920>\u001b[0m in \u001b[0;36m<module>\u001b[0;34m()\u001b[0m\n\u001b[0;32m----> 1\u001b[0;31m \u001b[0;32mdef\u001b[0m \u001b[0mproduct_recommendation\u001b[0m\u001b[0;34m(\u001b[0m\u001b[0mtitle\u001b[0m\u001b[0;34m,\u001b[0m\u001b[0msig\u001b[0m\u001b[0;34m=\u001b[0m\u001b[0msig\u001b[0m\u001b[0;34m)\u001b[0m\u001b[0;34m:\u001b[0m\u001b[0;34m\u001b[0m\u001b[0;34m\u001b[0m\u001b[0m\n\u001b[0m\u001b[1;32m      2\u001b[0m     \u001b[0mindx\u001b[0m \u001b[0;34m=\u001b[0m \u001b[0mindices\u001b[0m\u001b[0;34m[\u001b[0m\u001b[0mtitle\u001b[0m\u001b[0;34m]\u001b[0m\u001b[0;34m\u001b[0m\u001b[0;34m\u001b[0m\u001b[0m\n\u001b[1;32m      3\u001b[0m \u001b[0;34m\u001b[0m\u001b[0m\n\u001b[1;32m      4\u001b[0m     \u001b[0;31m#getting pairwise similarity scores\u001b[0m\u001b[0;34m\u001b[0m\u001b[0;34m\u001b[0m\u001b[0;34m\u001b[0m\u001b[0m\n\u001b[1;32m      5\u001b[0m     \u001b[0msig_scores\u001b[0m \u001b[0;34m=\u001b[0m \u001b[0mlist\u001b[0m\u001b[0;34m(\u001b[0m\u001b[0menumerate\u001b[0m\u001b[0;34m(\u001b[0m\u001b[0msig\u001b[0m\u001b[0;34m[\u001b[0m\u001b[0mindx\u001b[0m\u001b[0;34m]\u001b[0m\u001b[0;34m)\u001b[0m\u001b[0;34m)\u001b[0m\u001b[0;34m\u001b[0m\u001b[0;34m\u001b[0m\u001b[0m\n",
            "\u001b[0;31mNameError\u001b[0m: name 'sig' is not defined"
          ]
        }
      ]
    },
    {
      "cell_type": "code",
      "metadata": {
        "id": "mBUR9gV-IkLt"
      },
      "source": [
        "n=input(\"Enter the name of the product: \")\r\n",
        "print(\"\\nTop Recommended products are: \\n\")\r\n",
        "print(product_recommendation(n).unique())"
      ],
      "execution_count": null,
      "outputs": []
    },
    {
      "cell_type": "code",
      "metadata": {
        "colab": {
          "base_uri": "https://localhost:8080/",
          "height": 433
        },
        "id": "S8dB1cnOQPpT",
        "outputId": "fdc89e0d-1729-4dff-97e4-82071959deb7"
      },
      "source": [
        "rating_json"
      ],
      "execution_count": null,
      "outputs": [
        {
          "output_type": "execute_result",
          "data": {
            "text/html": [
              "<div>\n",
              "<style scoped>\n",
              "    .dataframe tbody tr th:only-of-type {\n",
              "        vertical-align: middle;\n",
              "    }\n",
              "\n",
              "    .dataframe tbody tr th {\n",
              "        vertical-align: top;\n",
              "    }\n",
              "\n",
              "    .dataframe thead th {\n",
              "        text-align: right;\n",
              "    }\n",
              "</style>\n",
              "<table border=\"1\" class=\"dataframe\">\n",
              "  <thead>\n",
              "    <tr style=\"text-align: right;\">\n",
              "      <th></th>\n",
              "      <th>reviewerID</th>\n",
              "      <th>asin</th>\n",
              "      <th>reviewerName</th>\n",
              "      <th>helpful</th>\n",
              "      <th>reviewText</th>\n",
              "      <th>overall</th>\n",
              "      <th>summary</th>\n",
              "      <th>unixReviewTime</th>\n",
              "      <th>reviewTime</th>\n",
              "    </tr>\n",
              "  </thead>\n",
              "  <tbody>\n",
              "    <tr>\n",
              "      <th>0</th>\n",
              "      <td>A1YJEY40YUW4SE</td>\n",
              "      <td>7806397051</td>\n",
              "      <td>Andrea</td>\n",
              "      <td>[3, 4]</td>\n",
              "      <td>Very oily and creamy. Not at all what I expect...</td>\n",
              "      <td>1</td>\n",
              "      <td>Don't waste your money</td>\n",
              "      <td>1391040000</td>\n",
              "      <td>01 30, 2014</td>\n",
              "    </tr>\n",
              "    <tr>\n",
              "      <th>1</th>\n",
              "      <td>A60XNB876KYML</td>\n",
              "      <td>7806397051</td>\n",
              "      <td>Jessica H.</td>\n",
              "      <td>[1, 1]</td>\n",
              "      <td>This palette was a decent price and I was look...</td>\n",
              "      <td>3</td>\n",
              "      <td>OK Palette!</td>\n",
              "      <td>1397779200</td>\n",
              "      <td>04 18, 2014</td>\n",
              "    </tr>\n",
              "    <tr>\n",
              "      <th>2</th>\n",
              "      <td>A3G6XNM240RMWA</td>\n",
              "      <td>7806397051</td>\n",
              "      <td>Karen</td>\n",
              "      <td>[0, 1]</td>\n",
              "      <td>The texture of this concealer pallet is fantas...</td>\n",
              "      <td>4</td>\n",
              "      <td>great quality</td>\n",
              "      <td>1378425600</td>\n",
              "      <td>09 6, 2013</td>\n",
              "    </tr>\n",
              "    <tr>\n",
              "      <th>3</th>\n",
              "      <td>A1PQFP6SAJ6D80</td>\n",
              "      <td>7806397051</td>\n",
              "      <td>Norah</td>\n",
              "      <td>[2, 2]</td>\n",
              "      <td>I really can't tell what exactly this thing is...</td>\n",
              "      <td>2</td>\n",
              "      <td>Do not work on my face</td>\n",
              "      <td>1386460800</td>\n",
              "      <td>12 8, 2013</td>\n",
              "    </tr>\n",
              "    <tr>\n",
              "      <th>4</th>\n",
              "      <td>A38FVHZTNQ271F</td>\n",
              "      <td>7806397051</td>\n",
              "      <td>Nova Amor</td>\n",
              "      <td>[0, 0]</td>\n",
              "      <td>It was a little smaller than I expected, but t...</td>\n",
              "      <td>3</td>\n",
              "      <td>It's okay.</td>\n",
              "      <td>1382140800</td>\n",
              "      <td>10 19, 2013</td>\n",
              "    </tr>\n",
              "    <tr>\n",
              "      <th>...</th>\n",
              "      <td>...</td>\n",
              "      <td>...</td>\n",
              "      <td>...</td>\n",
              "      <td>...</td>\n",
              "      <td>...</td>\n",
              "      <td>...</td>\n",
              "      <td>...</td>\n",
              "      <td>...</td>\n",
              "      <td>...</td>\n",
              "    </tr>\n",
              "    <tr>\n",
              "      <th>198497</th>\n",
              "      <td>A2BLFCOPSMBOZ9</td>\n",
              "      <td>B00LLPT4HI</td>\n",
              "      <td>Dave Edmiston</td>\n",
              "      <td>[0, 0]</td>\n",
              "      <td>Just a little dab of this shea butter should b...</td>\n",
              "      <td>5</td>\n",
              "      <td>A little dab...</td>\n",
              "      <td>1405468800</td>\n",
              "      <td>07 16, 2014</td>\n",
              "    </tr>\n",
              "    <tr>\n",
              "      <th>198498</th>\n",
              "      <td>A1UQBFCERIP7VJ</td>\n",
              "      <td>B00LLPT4HI</td>\n",
              "      <td>Margaret Picky</td>\n",
              "      <td>[0, 0]</td>\n",
              "      <td>This shea butter is completely raw and unrefin...</td>\n",
              "      <td>5</td>\n",
              "      <td>Pure organic raw shea butter</td>\n",
              "      <td>1405296000</td>\n",
              "      <td>07 14, 2014</td>\n",
              "    </tr>\n",
              "    <tr>\n",
              "      <th>198499</th>\n",
              "      <td>A35Q0RBM3YNQNF</td>\n",
              "      <td>B00LLPT4HI</td>\n",
              "      <td>M. Hill</td>\n",
              "      <td>[0, 0]</td>\n",
              "      <td>The skin is the body's largest organ and it ab...</td>\n",
              "      <td>5</td>\n",
              "      <td>One Pound Organic Grade A Unrefined Shea Butter</td>\n",
              "      <td>1405468800</td>\n",
              "      <td>07 16, 2014</td>\n",
              "    </tr>\n",
              "    <tr>\n",
              "      <th>198500</th>\n",
              "      <td>A3LGT6UZL99IW1</td>\n",
              "      <td>B00LLPT4HI</td>\n",
              "      <td>Richard C. Drew \"Anaal Nathra/Uthe vas Bethod...</td>\n",
              "      <td>[0, 0]</td>\n",
              "      <td>I have very dry elbows and knees.  I have a to...</td>\n",
              "      <td>5</td>\n",
              "      <td>This stuff is amazing!</td>\n",
              "      <td>1405382400</td>\n",
              "      <td>07 15, 2014</td>\n",
              "    </tr>\n",
              "    <tr>\n",
              "      <th>198501</th>\n",
              "      <td>A3UJRNI8UR4871</td>\n",
              "      <td>B00LLPT4HI</td>\n",
              "      <td>Wulfstan \"wulfstan\"</td>\n",
              "      <td>[0, 1]</td>\n",
              "      <td>This is 100% pure Shea Butter. Do not mistake ...</td>\n",
              "      <td>5</td>\n",
              "      <td>The \"Real Stuff\"!</td>\n",
              "      <td>1405987200</td>\n",
              "      <td>07 22, 2014</td>\n",
              "    </tr>\n",
              "  </tbody>\n",
              "</table>\n",
              "<p>198502 rows × 9 columns</p>\n",
              "</div>"
            ],
            "text/plain": [
              "            reviewerID        asin  ... unixReviewTime   reviewTime\n",
              "0       A1YJEY40YUW4SE  7806397051  ...     1391040000  01 30, 2014\n",
              "1        A60XNB876KYML  7806397051  ...     1397779200  04 18, 2014\n",
              "2       A3G6XNM240RMWA  7806397051  ...     1378425600   09 6, 2013\n",
              "3       A1PQFP6SAJ6D80  7806397051  ...     1386460800   12 8, 2013\n",
              "4       A38FVHZTNQ271F  7806397051  ...     1382140800  10 19, 2013\n",
              "...                ...         ...  ...            ...          ...\n",
              "198497  A2BLFCOPSMBOZ9  B00LLPT4HI  ...     1405468800  07 16, 2014\n",
              "198498  A1UQBFCERIP7VJ  B00LLPT4HI  ...     1405296000  07 14, 2014\n",
              "198499  A35Q0RBM3YNQNF  B00LLPT4HI  ...     1405468800  07 16, 2014\n",
              "198500  A3LGT6UZL99IW1  B00LLPT4HI  ...     1405382400  07 15, 2014\n",
              "198501  A3UJRNI8UR4871  B00LLPT4HI  ...     1405987200  07 22, 2014\n",
              "\n",
              "[198502 rows x 9 columns]"
            ]
          },
          "metadata": {
            "tags": []
          },
          "execution_count": 13
        }
      ]
    },
    {
      "cell_type": "code",
      "metadata": {
        "colab": {
          "base_uri": "https://localhost:8080/"
        },
        "id": "5Zq-Acg1IkJY",
        "outputId": "fd91cbd0-fe8a-49e6-fe6d-9bf8022451ae"
      },
      "source": [
        "rating_json['overall'].value_counts()"
      ],
      "execution_count": null,
      "outputs": [
        {
          "output_type": "execute_result",
          "data": {
            "text/plain": [
              "5    114531\n",
              "4     39741\n",
              "3     22248\n",
              "2     11456\n",
              "1     10526\n",
              "Name: overall, dtype: int64"
            ]
          },
          "metadata": {
            "tags": []
          },
          "execution_count": 12
        }
      ]
    },
    {
      "cell_type": "code",
      "metadata": {
        "id": "vIqW1ahnIkG_"
      },
      "source": [
        "# create a target column based on product_rating, if rating <=3 means bad:0 if rating >=4 good :1\r\n",
        "rating_json['target']=[0  if x<=3 else 1 for x in rating_json['overall']]\r\n",
        "\r\n",
        "# create a column for helpfulness Numerator and helpfulness Denominator\r\n",
        "rating_json['helpfulness_Numerator']  =[x[0] for x in rating_json['helpful']]\r\n",
        "rating_json['helpfulness_Denominator']=[x[1] for x in rating_json['helpful']]"
      ],
      "execution_count": null,
      "outputs": []
    },
    {
      "cell_type": "code",
      "metadata": {
        "colab": {
          "base_uri": "https://localhost:8080/",
          "height": 441
        },
        "id": "W-KA-Sc_QUpq",
        "outputId": "ea9466cf-7d92-4713-8026-12960d126746"
      },
      "source": [
        "import seaborn as sns\r\n",
        "# plot review counts in different rating group\r\n",
        "rating=pd.DataFrame(rating_json['overall'].value_counts()).reset_index().sort_values(by='index',ascending=True)\r\n",
        "plt.figure(figsize=(15,5))\r\n",
        "sns.barplot(rating['index'],rating['overall'])\r\n",
        "plt.xticks(fontsize=10)\r\n",
        "plt.xlabel('Rating Stars',fontsize=15)\r\n",
        "plt.ylabel('review_counts',fontsize=15)\r\n",
        "plt.title('Review Counts by Rating',fontsize=25)\r\n",
        "# for i in range(len(rating['index'])):\r\n",
        "#     plt.text(i+0.9,list(rating['overall'])[::-1][i]+1000,'{}%'.format(round(rating['overall'][i]/sum(rating['overall'])*100,2)),fontsize=15)\r\n",
        "# plt.show()"
      ],
      "execution_count": null,
      "outputs": [
        {
          "output_type": "stream",
          "text": [
            "/usr/local/lib/python3.6/dist-packages/seaborn/_decorators.py:43: FutureWarning: Pass the following variables as keyword args: x, y. From version 0.12, the only valid positional argument will be `data`, and passing other arguments without an explicit keyword will result in an error or misinterpretation.\n",
            "  FutureWarning\n"
          ],
          "name": "stderr"
        },
        {
          "output_type": "execute_result",
          "data": {
            "text/plain": [
              "Text(0.5, 1.0, 'Review Counts by Rating')"
            ]
          },
          "metadata": {
            "tags": []
          },
          "execution_count": 37
        },
        {
          "output_type": "display_data",
          "data": {
            "image/png": "[encoded data removed]",
            "text/plain": [
              "<Figure size 1080x360 with 1 Axes>"
            ]
          },
          "metadata": {
            "tags": [],
            "needs_background": "light"
          }
        }
      ]
    },
    {
      "cell_type": "code",
      "metadata": {
        "colab": {
          "base_uri": "https://localhost:8080/",
          "height": 382
        },
        "id": "xSXUOMUXQkID",
        "outputId": "b9354e1b-e8b4-4368-ff6b-79886cf02199"
      },
      "source": [
        "\r\n",
        "# plot review counts in bad review group and good review group\r\n",
        "bad_good=pd.DataFrame(rating_json['target'].value_counts()).reset_index().sort_values(by='index',ascending=False)\r\n",
        "\r\n",
        "sns.barplot(bad_good['index'],bad_good['target'])\r\n",
        "plt.xticks([0,1],[\"Bad Reviews\",\"Good Reviews\"],fontsize=15)\r\n",
        "plt.ylabel('review_counts',fontsize=15)\r\n",
        "plt.title('Review Counts by Bad/Good Reviews',fontsize=20)"
      ],
      "execution_count": null,
      "outputs": [
        {
          "output_type": "stream",
          "text": [
            "/usr/local/lib/python3.6/dist-packages/seaborn/_decorators.py:43: FutureWarning: Pass the following variables as keyword args: x, y. From version 0.12, the only valid positional argument will be `data`, and passing other arguments without an explicit keyword will result in an error or misinterpretation.\n",
            "  FutureWarning\n"
          ],
          "name": "stderr"
        },
        {
          "output_type": "execute_result",
          "data": {
            "text/plain": [
              "Text(0.5, 1.0, 'Review Counts by Bad/Good Reviews')"
            ]
          },
          "metadata": {
            "tags": []
          },
          "execution_count": 38
        },
        {
          "output_type": "display_data",
          "data": {
            "image/png": "[encoded data removed]",
            "text/plain": [
              "<Figure size 432x288 with 1 Axes>"
            ]
          },
          "metadata": {
            "tags": [],
            "needs_background": "light"
          }
        }
      ]
    },
    {
      "cell_type": "code",
      "metadata": {
        "colab": {
          "base_uri": "https://localhost:8080/",
          "height": 282
        },
        "id": "MyDV7xLUQ1Ov",
        "outputId": "3654bc10-ce9f-4f5e-ae20-8ecf5a8d8b96"
      },
      "source": [
        "\r\n",
        "# distribution of helpfulness_Numerator and helpfulness_Denominator in positive reviews\r\n",
        "plt.title('distribution of helpfulness of positive Reviews '.title(),fontsize=15)\r\n",
        "rating_json[rating_json['target']==1]['helpfulness_Numerator'].value_counts()[:20].plot(kind='hist',label='Numerator')\r\n",
        "rating_json[rating_json['target']==1]['helpfulness_Denominator'].value_counts()[:20].plot(kind='hist',label='Denominator')\r\n",
        "plt.legend()\r\n",
        "plt.show()"
      ],
      "execution_count": null,
      "outputs": [
        {
          "output_type": "display_data",
          "data": {
            "image/png": "[encoded data removed]",
            "text/plain": [
              "<Figure size 432x288 with 1 Axes>"
            ]
          },
          "metadata": {
            "tags": [],
            "needs_background": "light"
          }
        }
      ]
    },
    {
      "cell_type": "code",
      "metadata": {
        "colab": {
          "base_uri": "https://localhost:8080/",
          "height": 282
        },
        "id": "NhvEvztiQ_Cz",
        "outputId": "b7f10dd4-14a8-405b-e75c-6e85d2743558"
      },
      "source": [
        "# distribution of helpfulness_Numerator and helpfulness_Denominator in negative reviews\r\n",
        "plt.title('distribution of helpfulness of Negative Reviews '.title(),fontsize=15)\r\n",
        "rating_json[rating_json['target']==0]['helpfulness_Numerator'].value_counts()[:20].plot(kind='hist',label='Numerator')\r\n",
        "rating_json[rating_json['target']==0]['helpfulness_Denominator'].value_counts()[:20].plot(kind='hist',label='Denominator')\r\n",
        "plt.legend()\r\n",
        "plt.show()"
      ],
      "execution_count": null,
      "outputs": [
        {
          "output_type": "display_data",
          "data": {
            "image/png": "[encoded data removed]",
            "text/plain": [
              "<Figure size 432x288 with 1 Axes>"
            ]
          },
          "metadata": {
            "tags": [],
            "needs_background": "light"
          }
        }
      ]
    },
    {
      "cell_type": "code",
      "metadata": {
        "colab": {
          "base_uri": "https://localhost:8080/",
          "height": 114
        },
        "id": "3q7xPc9cpgfT",
        "outputId": "20592c22-9abd-4603-8a53-288be57cf5a0"
      },
      "source": [
        "rating_json.head(2)"
      ],
      "execution_count": null,
      "outputs": [
        {
          "output_type": "execute_result",
          "data": {
            "text/html": [
              "<div>\n",
              "<style scoped>\n",
              "    .dataframe tbody tr th:only-of-type {\n",
              "        vertical-align: middle;\n",
              "    }\n",
              "\n",
              "    .dataframe tbody tr th {\n",
              "        vertical-align: top;\n",
              "    }\n",
              "\n",
              "    .dataframe thead th {\n",
              "        text-align: right;\n",
              "    }\n",
              "</style>\n",
              "<table border=\"1\" class=\"dataframe\">\n",
              "  <thead>\n",
              "    <tr style=\"text-align: right;\">\n",
              "      <th></th>\n",
              "      <th>reviewerID</th>\n",
              "      <th>asin</th>\n",
              "      <th>reviewerName</th>\n",
              "      <th>helpful</th>\n",
              "      <th>reviewText</th>\n",
              "      <th>overall</th>\n",
              "      <th>summary</th>\n",
              "      <th>unixReviewTime</th>\n",
              "      <th>reviewTime</th>\n",
              "      <th>target</th>\n",
              "      <th>helpfulness_Numerator</th>\n",
              "      <th>helpfulness_Denominator</th>\n",
              "    </tr>\n",
              "  </thead>\n",
              "  <tbody>\n",
              "    <tr>\n",
              "      <th>0</th>\n",
              "      <td>A1YJEY40YUW4SE</td>\n",
              "      <td>7806397051</td>\n",
              "      <td>Andrea</td>\n",
              "      <td>[3, 4]</td>\n",
              "      <td>Very oily and creamy. Not at all what I expect...</td>\n",
              "      <td>1</td>\n",
              "      <td>Don't waste your money</td>\n",
              "      <td>1391040000</td>\n",
              "      <td>01 30, 2014</td>\n",
              "      <td>0</td>\n",
              "      <td>3</td>\n",
              "      <td>4</td>\n",
              "    </tr>\n",
              "    <tr>\n",
              "      <th>1</th>\n",
              "      <td>A60XNB876KYML</td>\n",
              "      <td>7806397051</td>\n",
              "      <td>Jessica H.</td>\n",
              "      <td>[1, 1]</td>\n",
              "      <td>This palette was a decent price and I was look...</td>\n",
              "      <td>3</td>\n",
              "      <td>OK Palette!</td>\n",
              "      <td>1397779200</td>\n",
              "      <td>04 18, 2014</td>\n",
              "      <td>0</td>\n",
              "      <td>1</td>\n",
              "      <td>1</td>\n",
              "    </tr>\n",
              "  </tbody>\n",
              "</table>\n",
              "</div>"
            ],
            "text/plain": [
              "       reviewerID        asin  ... helpfulness_Numerator helpfulness_Denominator\n",
              "0  A1YJEY40YUW4SE  7806397051  ...                     3                       4\n",
              "1   A60XNB876KYML  7806397051  ...                     1                       1\n",
              "\n",
              "[2 rows x 12 columns]"
            ]
          },
          "metadata": {
            "tags": []
          },
          "execution_count": 43
        }
      ]
    },
    {
      "cell_type": "code",
      "metadata": {
        "id": "EcbgR_DoRHBE"
      },
      "source": [
        "dfNew = rating_json[['asin','reviewText','overall',\"summary\"]]"
      ],
      "execution_count": null,
      "outputs": []
    },
    {
      "cell_type": "code",
      "metadata": {
        "colab": {
          "base_uri": "https://localhost:8080/",
          "height": 433
        },
        "id": "ta6DDqqwkvmE",
        "outputId": "a0130963-aa4b-4c10-f79b-63d54e5c15af"
      },
      "source": [
        "dfNew"
      ],
      "execution_count": null,
      "outputs": [
        {
          "output_type": "execute_result",
          "data": {
            "text/html": [
              "<div>\n",
              "<style scoped>\n",
              "    .dataframe tbody tr th:only-of-type {\n",
              "        vertical-align: middle;\n",
              "    }\n",
              "\n",
              "    .dataframe tbody tr th {\n",
              "        vertical-align: top;\n",
              "    }\n",
              "\n",
              "    .dataframe thead th {\n",
              "        text-align: right;\n",
              "    }\n",
              "</style>\n",
              "<table border=\"1\" class=\"dataframe\">\n",
              "  <thead>\n",
              "    <tr style=\"text-align: right;\">\n",
              "      <th></th>\n",
              "      <th>asin</th>\n",
              "      <th>reviewText</th>\n",
              "      <th>overall</th>\n",
              "      <th>summary</th>\n",
              "    </tr>\n",
              "  </thead>\n",
              "  <tbody>\n",
              "    <tr>\n",
              "      <th>0</th>\n",
              "      <td>7806397051</td>\n",
              "      <td>Very oily and creamy. Not at all what I expect...</td>\n",
              "      <td>1</td>\n",
              "      <td>Don't waste your money</td>\n",
              "    </tr>\n",
              "    <tr>\n",
              "      <th>1</th>\n",
              "      <td>7806397051</td>\n",
              "      <td>This palette was a decent price and I was look...</td>\n",
              "      <td>3</td>\n",
              "      <td>OK Palette!</td>\n",
              "    </tr>\n",
              "    <tr>\n",
              "      <th>2</th>\n",
              "      <td>7806397051</td>\n",
              "      <td>The texture of this concealer pallet is fantas...</td>\n",
              "      <td>4</td>\n",
              "      <td>great quality</td>\n",
              "    </tr>\n",
              "    <tr>\n",
              "      <th>3</th>\n",
              "      <td>7806397051</td>\n",
              "      <td>I really can't tell what exactly this thing is...</td>\n",
              "      <td>2</td>\n",
              "      <td>Do not work on my face</td>\n",
              "    </tr>\n",
              "    <tr>\n",
              "      <th>4</th>\n",
              "      <td>7806397051</td>\n",
              "      <td>It was a little smaller than I expected, but t...</td>\n",
              "      <td>3</td>\n",
              "      <td>It's okay.</td>\n",
              "    </tr>\n",
              "    <tr>\n",
              "      <th>...</th>\n",
              "      <td>...</td>\n",
              "      <td>...</td>\n",
              "      <td>...</td>\n",
              "      <td>...</td>\n",
              "    </tr>\n",
              "    <tr>\n",
              "      <th>198497</th>\n",
              "      <td>B00LLPT4HI</td>\n",
              "      <td>Just a little dab of this shea butter should b...</td>\n",
              "      <td>5</td>\n",
              "      <td>A little dab...</td>\n",
              "    </tr>\n",
              "    <tr>\n",
              "      <th>198498</th>\n",
              "      <td>B00LLPT4HI</td>\n",
              "      <td>This shea butter is completely raw and unrefin...</td>\n",
              "      <td>5</td>\n",
              "      <td>Pure organic raw shea butter</td>\n",
              "    </tr>\n",
              "    <tr>\n",
              "      <th>198499</th>\n",
              "      <td>B00LLPT4HI</td>\n",
              "      <td>The skin is the body's largest organ and it ab...</td>\n",
              "      <td>5</td>\n",
              "      <td>One Pound Organic Grade A Unrefined Shea Butter</td>\n",
              "    </tr>\n",
              "    <tr>\n",
              "      <th>198500</th>\n",
              "      <td>B00LLPT4HI</td>\n",
              "      <td>I have very dry elbows and knees.  I have a to...</td>\n",
              "      <td>5</td>\n",
              "      <td>This stuff is amazing!</td>\n",
              "    </tr>\n",
              "    <tr>\n",
              "      <th>198501</th>\n",
              "      <td>B00LLPT4HI</td>\n",
              "      <td>This is 100% pure Shea Butter. Do not mistake ...</td>\n",
              "      <td>5</td>\n",
              "      <td>The \"Real Stuff\"!</td>\n",
              "    </tr>\n",
              "  </tbody>\n",
              "</table>\n",
              "<p>198502 rows × 4 columns</p>\n",
              "</div>"
            ],
            "text/plain": [
              "              asin  ...                                          summary\n",
              "0       7806397051  ...                           Don't waste your money\n",
              "1       7806397051  ...                                      OK Palette!\n",
              "2       7806397051  ...                                    great quality\n",
              "3       7806397051  ...                           Do not work on my face\n",
              "4       7806397051  ...                                       It's okay.\n",
              "...            ...  ...                                              ...\n",
              "198497  B00LLPT4HI  ...                                  A little dab...\n",
              "198498  B00LLPT4HI  ...                     Pure organic raw shea butter\n",
              "198499  B00LLPT4HI  ...  One Pound Organic Grade A Unrefined Shea Butter\n",
              "198500  B00LLPT4HI  ...                           This stuff is amazing!\n",
              "198501  B00LLPT4HI  ...                                The \"Real Stuff\"!\n",
              "\n",
              "[198502 rows x 4 columns]"
            ]
          },
          "metadata": {
            "tags": []
          },
          "execution_count": 45
        }
      ]
    },
    {
      "cell_type": "code",
      "metadata": {
        "id": "5uCfv0D3qI88",
        "colab": {
          "base_uri": "https://localhost:8080/",
          "height": 1000
        },
        "outputId": "75b180dd-ba3e-404b-ab71-f5ea5600032f"
      },
      "source": [
        "count = rating_json.groupby(\"asin\", as_index=False).count()\r\n",
        "mean = rating_json.groupby(\"asin\", as_index=False).mean()\r\n",
        "\r\n",
        "dfMerged = pd.merge(rating_json, count, how='right', on=['asin'])\r\n",
        "dfMerged"
      ],
      "execution_count": 18,
      "outputs": [
        {
          "output_type": "execute_result",
          "data": {
            "text/html": [
              "<div>\n",
              "<style scoped>\n",
              "    .dataframe tbody tr th:only-of-type {\n",
              "        vertical-align: middle;\n",
              "    }\n",
              "\n",
              "    .dataframe tbody tr th {\n",
              "        vertical-align: top;\n",
              "    }\n",
              "\n",
              "    .dataframe thead th {\n",
              "        text-align: right;\n",
              "    }\n",
              "</style>\n",
              "<table border=\"1\" class=\"dataframe\">\n",
              "  <thead>\n",
              "    <tr style=\"text-align: right;\">\n",
              "      <th></th>\n",
              "      <th>reviewerID_x</th>\n",
              "      <th>asin</th>\n",
              "      <th>reviewerName_x</th>\n",
              "      <th>helpful_x</th>\n",
              "      <th>reviewText_x</th>\n",
              "      <th>overall_x</th>\n",
              "      <th>summary_x</th>\n",
              "      <th>unixReviewTime_x</th>\n",
              "      <th>reviewTime_x</th>\n",
              "      <th>reviewerID_y</th>\n",
              "      <th>reviewerName_y</th>\n",
              "      <th>helpful_y</th>\n",
              "      <th>reviewText_y</th>\n",
              "      <th>overall_y</th>\n",
              "      <th>summary_y</th>\n",
              "      <th>unixReviewTime_y</th>\n",
              "      <th>reviewTime_y</th>\n",
              "    </tr>\n",
              "  </thead>\n",
              "  <tbody>\n",
              "    <tr>\n",
              "      <th>0</th>\n",
              "      <td>A1YJEY40YUW4SE</td>\n",
              "      <td>7806397051</td>\n",
              "      <td>Andrea</td>\n",
              "      <td>[3, 4]</td>\n",
              "      <td>Very oily and creamy. Not at all what I expect...</td>\n",
              "      <td>1</td>\n",
              "      <td>Don't waste your money</td>\n",
              "      <td>1391040000</td>\n",
              "      <td>01 30, 2014</td>\n",
              "      <td>8</td>\n",
              "      <td>8</td>\n",
              "      <td>8</td>\n",
              "      <td>8</td>\n",
              "      <td>8</td>\n",
              "      <td>8</td>\n",
              "      <td>8</td>\n",
              "      <td>8</td>\n",
              "    </tr>\n",
              "    <tr>\n",
              "      <th>1</th>\n",
              "      <td>A60XNB876KYML</td>\n",
              "      <td>7806397051</td>\n",
              "      <td>Jessica H.</td>\n",
              "      <td>[1, 1]</td>\n",
              "      <td>This palette was a decent price and I was look...</td>\n",
              "      <td>3</td>\n",
              "      <td>OK Palette!</td>\n",
              "      <td>1397779200</td>\n",
              "      <td>04 18, 2014</td>\n",
              "      <td>8</td>\n",
              "      <td>8</td>\n",
              "      <td>8</td>\n",
              "      <td>8</td>\n",
              "      <td>8</td>\n",
              "      <td>8</td>\n",
              "      <td>8</td>\n",
              "      <td>8</td>\n",
              "    </tr>\n",
              "    <tr>\n",
              "      <th>2</th>\n",
              "      <td>A3G6XNM240RMWA</td>\n",
              "      <td>7806397051</td>\n",
              "      <td>Karen</td>\n",
              "      <td>[0, 1]</td>\n",
              "      <td>The texture of this concealer pallet is fantas...</td>\n",
              "      <td>4</td>\n",
              "      <td>great quality</td>\n",
              "      <td>1378425600</td>\n",
              "      <td>09 6, 2013</td>\n",
              "      <td>8</td>\n",
              "      <td>8</td>\n",
              "      <td>8</td>\n",
              "      <td>8</td>\n",
              "      <td>8</td>\n",
              "      <td>8</td>\n",
              "      <td>8</td>\n",
              "      <td>8</td>\n",
              "    </tr>\n",
              "    <tr>\n",
              "      <th>3</th>\n",
              "      <td>A1PQFP6SAJ6D80</td>\n",
              "      <td>7806397051</td>\n",
              "      <td>Norah</td>\n",
              "      <td>[2, 2]</td>\n",
              "      <td>I really can't tell what exactly this thing is...</td>\n",
              "      <td>2</td>\n",
              "      <td>Do not work on my face</td>\n",
              "      <td>1386460800</td>\n",
              "      <td>12 8, 2013</td>\n",
              "      <td>8</td>\n",
              "      <td>8</td>\n",
              "      <td>8</td>\n",
              "      <td>8</td>\n",
              "      <td>8</td>\n",
              "      <td>8</td>\n",
              "      <td>8</td>\n",
              "      <td>8</td>\n",
              "    </tr>\n",
              "    <tr>\n",
              "      <th>4</th>\n",
              "      <td>A38FVHZTNQ271F</td>\n",
              "      <td>7806397051</td>\n",
              "      <td>Nova Amor</td>\n",
              "      <td>[0, 0]</td>\n",
              "      <td>It was a little smaller than I expected, but t...</td>\n",
              "      <td>3</td>\n",
              "      <td>It's okay.</td>\n",
              "      <td>1382140800</td>\n",
              "      <td>10 19, 2013</td>\n",
              "      <td>8</td>\n",
              "      <td>8</td>\n",
              "      <td>8</td>\n",
              "      <td>8</td>\n",
              "      <td>8</td>\n",
              "      <td>8</td>\n",
              "      <td>8</td>\n",
              "      <td>8</td>\n",
              "    </tr>\n",
              "    <tr>\n",
              "      <th>...</th>\n",
              "      <td>...</td>\n",
              "      <td>...</td>\n",
              "      <td>...</td>\n",
              "      <td>...</td>\n",
              "      <td>...</td>\n",
              "      <td>...</td>\n",
              "      <td>...</td>\n",
              "      <td>...</td>\n",
              "      <td>...</td>\n",
              "      <td>...</td>\n",
              "      <td>...</td>\n",
              "      <td>...</td>\n",
              "      <td>...</td>\n",
              "      <td>...</td>\n",
              "      <td>...</td>\n",
              "      <td>...</td>\n",
              "      <td>...</td>\n",
              "    </tr>\n",
              "    <tr>\n",
              "      <th>198497</th>\n",
              "      <td>A2BLFCOPSMBOZ9</td>\n",
              "      <td>B00LLPT4HI</td>\n",
              "      <td>Dave Edmiston</td>\n",
              "      <td>[0, 0]</td>\n",
              "      <td>Just a little dab of this shea butter should b...</td>\n",
              "      <td>5</td>\n",
              "      <td>A little dab...</td>\n",
              "      <td>1405468800</td>\n",
              "      <td>07 16, 2014</td>\n",
              "      <td>7</td>\n",
              "      <td>7</td>\n",
              "      <td>7</td>\n",
              "      <td>7</td>\n",
              "      <td>7</td>\n",
              "      <td>7</td>\n",
              "      <td>7</td>\n",
              "      <td>7</td>\n",
              "    </tr>\n",
              "    <tr>\n",
              "      <th>198498</th>\n",
              "      <td>A1UQBFCERIP7VJ</td>\n",
              "      <td>B00LLPT4HI</td>\n",
              "      <td>Margaret Picky</td>\n",
              "      <td>[0, 0]</td>\n",
              "      <td>This shea butter is completely raw and unrefin...</td>\n",
              "      <td>5</td>\n",
              "      <td>Pure organic raw shea butter</td>\n",
              "      <td>1405296000</td>\n",
              "      <td>07 14, 2014</td>\n",
              "      <td>7</td>\n",
              "      <td>7</td>\n",
              "      <td>7</td>\n",
              "      <td>7</td>\n",
              "      <td>7</td>\n",
              "      <td>7</td>\n",
              "      <td>7</td>\n",
              "      <td>7</td>\n",
              "    </tr>\n",
              "    <tr>\n",
              "      <th>198499</th>\n",
              "      <td>A35Q0RBM3YNQNF</td>\n",
              "      <td>B00LLPT4HI</td>\n",
              "      <td>M. Hill</td>\n",
              "      <td>[0, 0]</td>\n",
              "      <td>The skin is the body's largest organ and it ab...</td>\n",
              "      <td>5</td>\n",
              "      <td>One Pound Organic Grade A Unrefined Shea Butter</td>\n",
              "      <td>1405468800</td>\n",
              "      <td>07 16, 2014</td>\n",
              "      <td>7</td>\n",
              "      <td>7</td>\n",
              "      <td>7</td>\n",
              "      <td>7</td>\n",
              "      <td>7</td>\n",
              "      <td>7</td>\n",
              "      <td>7</td>\n",
              "      <td>7</td>\n",
              "    </tr>\n",
              "    <tr>\n",
              "      <th>198500</th>\n",
              "      <td>A3LGT6UZL99IW1</td>\n",
              "      <td>B00LLPT4HI</td>\n",
              "      <td>Richard C. Drew \"Anaal Nathra/Uthe vas Bethod...</td>\n",
              "      <td>[0, 0]</td>\n",
              "      <td>I have very dry elbows and knees.  I have a to...</td>\n",
              "      <td>5</td>\n",
              "      <td>This stuff is amazing!</td>\n",
              "      <td>1405382400</td>\n",
              "      <td>07 15, 2014</td>\n",
              "      <td>7</td>\n",
              "      <td>7</td>\n",
              "      <td>7</td>\n",
              "      <td>7</td>\n",
              "      <td>7</td>\n",
              "      <td>7</td>\n",
              "      <td>7</td>\n",
              "      <td>7</td>\n",
              "    </tr>\n",
              "    <tr>\n",
              "      <th>198501</th>\n",
              "      <td>A3UJRNI8UR4871</td>\n",
              "      <td>B00LLPT4HI</td>\n",
              "      <td>Wulfstan \"wulfstan\"</td>\n",
              "      <td>[0, 1]</td>\n",
              "      <td>This is 100% pure Shea Butter. Do not mistake ...</td>\n",
              "      <td>5</td>\n",
              "      <td>The \"Real Stuff\"!</td>\n",
              "      <td>1405987200</td>\n",
              "      <td>07 22, 2014</td>\n",
              "      <td>7</td>\n",
              "      <td>7</td>\n",
              "      <td>7</td>\n",
              "      <td>7</td>\n",
              "      <td>7</td>\n",
              "      <td>7</td>\n",
              "      <td>7</td>\n",
              "      <td>7</td>\n",
              "    </tr>\n",
              "  </tbody>\n",
              "</table>\n",
              "<p>198502 rows × 17 columns</p>\n",
              "</div>"
            ],
            "text/plain": [
              "          reviewerID_x        asin  ... unixReviewTime_y reviewTime_y\n",
              "0       A1YJEY40YUW4SE  7806397051  ...                8            8\n",
              "1        A60XNB876KYML  7806397051  ...                8            8\n",
              "2       A3G6XNM240RMWA  7806397051  ...                8            8\n",
              "3       A1PQFP6SAJ6D80  7806397051  ...                8            8\n",
              "4       A38FVHZTNQ271F  7806397051  ...                8            8\n",
              "...                ...         ...  ...              ...          ...\n",
              "198497  A2BLFCOPSMBOZ9  B00LLPT4HI  ...                7            7\n",
              "198498  A1UQBFCERIP7VJ  B00LLPT4HI  ...                7            7\n",
              "198499  A35Q0RBM3YNQNF  B00LLPT4HI  ...                7            7\n",
              "198500  A3LGT6UZL99IW1  B00LLPT4HI  ...                7            7\n",
              "198501  A3UJRNI8UR4871  B00LLPT4HI  ...                7            7\n",
              "\n",
              "[198502 rows x 17 columns]"
            ]
          },
          "metadata": {
            "tags": []
          },
          "execution_count": 18
        }
      ]
    },
    {
      "cell_type": "code",
      "metadata": {
        "colab": {
          "base_uri": "https://localhost:8080/"
        },
        "id": "QCMmM4HAkSgP",
        "outputId": "cc2fc7fb-8095-4b37-fec9-b14734d02b0c"
      },
      "source": [
        "dfMerged.info()"
      ],
      "execution_count": 19,
      "outputs": [
        {
          "output_type": "stream",
          "text": [
            "<class 'pandas.core.frame.DataFrame'>\n",
            "Int64Index: 198502 entries, 0 to 198501\n",
            "Data columns (total 17 columns):\n",
            " #   Column            Non-Null Count   Dtype \n",
            "---  ------            --------------   ----- \n",
            " 0   reviewerID_x      198502 non-null  object\n",
            " 1   asin              198502 non-null  object\n",
            " 2   reviewerName_x    197116 non-null  object\n",
            " 3   helpful_x         198502 non-null  object\n",
            " 4   reviewText_x      198502 non-null  object\n",
            " 5   overall_x         198502 non-null  int64 \n",
            " 6   summary_x         198502 non-null  object\n",
            " 7   unixReviewTime_x  198502 non-null  int64 \n",
            " 8   reviewTime_x      198502 non-null  object\n",
            " 9   reviewerID_y      198502 non-null  int64 \n",
            " 10  reviewerName_y    198502 non-null  int64 \n",
            " 11  helpful_y         198502 non-null  int64 \n",
            " 12  reviewText_y      198502 non-null  int64 \n",
            " 13  overall_y         198502 non-null  int64 \n",
            " 14  summary_y         198502 non-null  int64 \n",
            " 15  unixReviewTime_y  198502 non-null  int64 \n",
            " 16  reviewTime_y      198502 non-null  int64 \n",
            "dtypes: int64(10), object(7)\n",
            "memory usage: 27.3+ MB\n"
          ],
          "name": "stdout"
        }
      ]
    },
    {
      "cell_type": "code",
      "metadata": {
        "id": "K4lUzUtbkV0N"
      },
      "source": [
        "#rename column\r\n",
        "dfMerged[\"totalReviewers\"] = dfMerged[\"reviewerID_y\"]\r\n",
        "dfMerged[\"overallScore\"] = dfMerged[\"overall_x\"]\r\n",
        "dfMerged[\"summaryReview\"] = dfMerged[\"summary_x\"]\r\n",
        "\r\n",
        "\r\n",
        "dfNew = dfMerged[['asin','summaryReview','overallScore',\"totalReviewers\"]]"
      ],
      "execution_count": 20,
      "outputs": []
    },
    {
      "cell_type": "code",
      "metadata": {
        "colab": {
          "base_uri": "https://localhost:8080/",
          "height": 1000
        },
        "id": "jb9DaHAkkXtK",
        "outputId": "efd3e1f4-ecfd-4a12-ab5f-8ce112beb7f0"
      },
      "source": [
        "\r\n",
        "dfMerged = dfMerged.sort_values(by='totalReviewers', ascending=False)\r\n",
        "dfCount = dfMerged[dfMerged.totalReviewers >= 100]\r\n",
        "dfCount"
      ],
      "execution_count": 21,
      "outputs": [
        {
          "output_type": "execute_result",
          "data": {
            "text/html": [
              "<div>\n",
              "<style scoped>\n",
              "    .dataframe tbody tr th:only-of-type {\n",
              "        vertical-align: middle;\n",
              "    }\n",
              "\n",
              "    .dataframe tbody tr th {\n",
              "        vertical-align: top;\n",
              "    }\n",
              "\n",
              "    .dataframe thead th {\n",
              "        text-align: right;\n",
              "    }\n",
              "</style>\n",
              "<table border=\"1\" class=\"dataframe\">\n",
              "  <thead>\n",
              "    <tr style=\"text-align: right;\">\n",
              "      <th></th>\n",
              "      <th>reviewerID_x</th>\n",
              "      <th>asin</th>\n",
              "      <th>reviewerName_x</th>\n",
              "      <th>helpful_x</th>\n",
              "      <th>reviewText_x</th>\n",
              "      <th>overall_x</th>\n",
              "      <th>summary_x</th>\n",
              "      <th>unixReviewTime_x</th>\n",
              "      <th>reviewTime_x</th>\n",
              "      <th>reviewerID_y</th>\n",
              "      <th>reviewerName_y</th>\n",
              "      <th>helpful_y</th>\n",
              "      <th>reviewText_y</th>\n",
              "      <th>overall_y</th>\n",
              "      <th>summary_y</th>\n",
              "      <th>unixReviewTime_y</th>\n",
              "      <th>reviewTime_y</th>\n",
              "      <th>totalReviewers</th>\n",
              "      <th>overallScore</th>\n",
              "      <th>summaryReview</th>\n",
              "    </tr>\n",
              "  </thead>\n",
              "  <tbody>\n",
              "    <tr>\n",
              "      <th>112506</th>\n",
              "      <td>A3BP5ZF51CHZOE</td>\n",
              "      <td>B004OHQR1Q</td>\n",
              "      <td>Caitlyn Johnson</td>\n",
              "      <td>[7, 9]</td>\n",
              "      <td>first off.... i ordered these expecting there ...</td>\n",
              "      <td>1</td>\n",
              "      <td>crap!</td>\n",
              "      <td>1382572800</td>\n",
              "      <td>10 24, 2013</td>\n",
              "      <td>431</td>\n",
              "      <td>431</td>\n",
              "      <td>431</td>\n",
              "      <td>431</td>\n",
              "      <td>431</td>\n",
              "      <td>431</td>\n",
              "      <td>431</td>\n",
              "      <td>431</td>\n",
              "      <td>431</td>\n",
              "      <td>1</td>\n",
              "      <td>crap!</td>\n",
              "    </tr>\n",
              "    <tr>\n",
              "      <th>112578</th>\n",
              "      <td>A3796JLADKK5Z7</td>\n",
              "      <td>B004OHQR1Q</td>\n",
              "      <td>Freckvanilla</td>\n",
              "      <td>[0, 0]</td>\n",
              "      <td>I use this all the time helps out with my desi...</td>\n",
              "      <td>5</td>\n",
              "      <td>YOU NEED THIS!!</td>\n",
              "      <td>1372118400</td>\n",
              "      <td>06 25, 2013</td>\n",
              "      <td>431</td>\n",
              "      <td>431</td>\n",
              "      <td>431</td>\n",
              "      <td>431</td>\n",
              "      <td>431</td>\n",
              "      <td>431</td>\n",
              "      <td>431</td>\n",
              "      <td>431</td>\n",
              "      <td>431</td>\n",
              "      <td>5</td>\n",
              "      <td>YOU NEED THIS!!</td>\n",
              "    </tr>\n",
              "    <tr>\n",
              "      <th>112580</th>\n",
              "      <td>A22NETHJ4KTWJP</td>\n",
              "      <td>B004OHQR1Q</td>\n",
              "      <td>gadgetGirl</td>\n",
              "      <td>[0, 0]</td>\n",
              "      <td>Love the array of colors and the different siz...</td>\n",
              "      <td>5</td>\n",
              "      <td>Great product at a very affordable price</td>\n",
              "      <td>1367798400</td>\n",
              "      <td>05 6, 2013</td>\n",
              "      <td>431</td>\n",
              "      <td>431</td>\n",
              "      <td>431</td>\n",
              "      <td>431</td>\n",
              "      <td>431</td>\n",
              "      <td>431</td>\n",
              "      <td>431</td>\n",
              "      <td>431</td>\n",
              "      <td>431</td>\n",
              "      <td>5</td>\n",
              "      <td>Great product at a very affordable price</td>\n",
              "    </tr>\n",
              "    <tr>\n",
              "      <th>112581</th>\n",
              "      <td>A1L9ZTGO75717E</td>\n",
              "      <td>B004OHQR1Q</td>\n",
              "      <td>gatorsgate</td>\n",
              "      <td>[0, 0]</td>\n",
              "      <td>I would recommend these dotting tools to anyon...</td>\n",
              "      <td>5</td>\n",
              "      <td>Dotting 5 X 2 Way Marbleizing Dotting Pen Set</td>\n",
              "      <td>1398124800</td>\n",
              "      <td>04 22, 2014</td>\n",
              "      <td>431</td>\n",
              "      <td>431</td>\n",
              "      <td>431</td>\n",
              "      <td>431</td>\n",
              "      <td>431</td>\n",
              "      <td>431</td>\n",
              "      <td>431</td>\n",
              "      <td>431</td>\n",
              "      <td>431</td>\n",
              "      <td>5</td>\n",
              "      <td>Dotting 5 X 2 Way Marbleizing Dotting Pen Set</td>\n",
              "    </tr>\n",
              "    <tr>\n",
              "      <th>112582</th>\n",
              "      <td>A3DDZQYUAE9WNP</td>\n",
              "      <td>B004OHQR1Q</td>\n",
              "      <td>gee</td>\n",
              "      <td>[0, 0]</td>\n",
              "      <td>These are easy to use. Gets the job done and c...</td>\n",
              "      <td>5</td>\n",
              "      <td>Love the look.</td>\n",
              "      <td>1375833600</td>\n",
              "      <td>08 7, 2013</td>\n",
              "      <td>431</td>\n",
              "      <td>431</td>\n",
              "      <td>431</td>\n",
              "      <td>431</td>\n",
              "      <td>431</td>\n",
              "      <td>431</td>\n",
              "      <td>431</td>\n",
              "      <td>431</td>\n",
              "      <td>431</td>\n",
              "      <td>5</td>\n",
              "      <td>Love the look.</td>\n",
              "    </tr>\n",
              "    <tr>\n",
              "      <th>...</th>\n",
              "      <td>...</td>\n",
              "      <td>...</td>\n",
              "      <td>...</td>\n",
              "      <td>...</td>\n",
              "      <td>...</td>\n",
              "      <td>...</td>\n",
              "      <td>...</td>\n",
              "      <td>...</td>\n",
              "      <td>...</td>\n",
              "      <td>...</td>\n",
              "      <td>...</td>\n",
              "      <td>...</td>\n",
              "      <td>...</td>\n",
              "      <td>...</td>\n",
              "      <td>...</td>\n",
              "      <td>...</td>\n",
              "      <td>...</td>\n",
              "      <td>...</td>\n",
              "      <td>...</td>\n",
              "      <td>...</td>\n",
              "    </tr>\n",
              "    <tr>\n",
              "      <th>139486</th>\n",
              "      <td>A33BT7ET6RNHES</td>\n",
              "      <td>B006RFZ66K</td>\n",
              "      <td>Ravelwriter</td>\n",
              "      <td>[3, 3]</td>\n",
              "      <td>I tend to have an issue with blackheads around...</td>\n",
              "      <td>5</td>\n",
              "      <td>A guilty pleasure</td>\n",
              "      <td>1369872000</td>\n",
              "      <td>05 30, 2013</td>\n",
              "      <td>100</td>\n",
              "      <td>100</td>\n",
              "      <td>100</td>\n",
              "      <td>100</td>\n",
              "      <td>100</td>\n",
              "      <td>100</td>\n",
              "      <td>100</td>\n",
              "      <td>100</td>\n",
              "      <td>100</td>\n",
              "      <td>5</td>\n",
              "      <td>A guilty pleasure</td>\n",
              "    </tr>\n",
              "    <tr>\n",
              "      <th>139487</th>\n",
              "      <td>A2L0WJMOT484GM</td>\n",
              "      <td>B006RFZ66K</td>\n",
              "      <td>reviewer</td>\n",
              "      <td>[3, 4]</td>\n",
              "      <td>I am a longterm follower of Biore pore strips....</td>\n",
              "      <td>4</td>\n",
              "      <td>blackheads remover</td>\n",
              "      <td>1361577600</td>\n",
              "      <td>02 23, 2013</td>\n",
              "      <td>100</td>\n",
              "      <td>100</td>\n",
              "      <td>100</td>\n",
              "      <td>100</td>\n",
              "      <td>100</td>\n",
              "      <td>100</td>\n",
              "      <td>100</td>\n",
              "      <td>100</td>\n",
              "      <td>100</td>\n",
              "      <td>4</td>\n",
              "      <td>blackheads remover</td>\n",
              "    </tr>\n",
              "    <tr>\n",
              "      <th>139488</th>\n",
              "      <td>A34DC8D55KDAAX</td>\n",
              "      <td>B006RFZ66K</td>\n",
              "      <td>Robbyn.</td>\n",
              "      <td>[0, 0]</td>\n",
              "      <td>I usually just use the ones for my nose, But i...</td>\n",
              "      <td>4</td>\n",
              "      <td>Pore strips.</td>\n",
              "      <td>1371340800</td>\n",
              "      <td>06 16, 2013</td>\n",
              "      <td>100</td>\n",
              "      <td>100</td>\n",
              "      <td>100</td>\n",
              "      <td>100</td>\n",
              "      <td>100</td>\n",
              "      <td>100</td>\n",
              "      <td>100</td>\n",
              "      <td>100</td>\n",
              "      <td>100</td>\n",
              "      <td>4</td>\n",
              "      <td>Pore strips.</td>\n",
              "    </tr>\n",
              "    <tr>\n",
              "      <th>139489</th>\n",
              "      <td>A2NOW4U7W3F7RI</td>\n",
              "      <td>B006RFZ66K</td>\n",
              "      <td>rpv</td>\n",
              "      <td>[0, 0]</td>\n",
              "      <td>Biore deep cleansing strips are very effective...</td>\n",
              "      <td>5</td>\n",
              "      <td>24 count is good!</td>\n",
              "      <td>1391126400</td>\n",
              "      <td>01 31, 2014</td>\n",
              "      <td>100</td>\n",
              "      <td>100</td>\n",
              "      <td>100</td>\n",
              "      <td>100</td>\n",
              "      <td>100</td>\n",
              "      <td>100</td>\n",
              "      <td>100</td>\n",
              "      <td>100</td>\n",
              "      <td>100</td>\n",
              "      <td>5</td>\n",
              "      <td>24 count is good!</td>\n",
              "    </tr>\n",
              "    <tr>\n",
              "      <th>139468</th>\n",
              "      <td>A17SZZO9LM3WYC</td>\n",
              "      <td>B006RFZ66K</td>\n",
              "      <td>Mayflower Girl \"amazon-junkie since 1996\"</td>\n",
              "      <td>[0, 0]</td>\n",
              "      <td>I was really happy to find a 24 pack available...</td>\n",
              "      <td>5</td>\n",
              "      <td>Great Strips, Great Price, Some Tips</td>\n",
              "      <td>1359590400</td>\n",
              "      <td>01 31, 2013</td>\n",
              "      <td>100</td>\n",
              "      <td>100</td>\n",
              "      <td>100</td>\n",
              "      <td>100</td>\n",
              "      <td>100</td>\n",
              "      <td>100</td>\n",
              "      <td>100</td>\n",
              "      <td>100</td>\n",
              "      <td>100</td>\n",
              "      <td>5</td>\n",
              "      <td>Great Strips, Great Price, Some Tips</td>\n",
              "    </tr>\n",
              "  </tbody>\n",
              "</table>\n",
              "<p>26352 rows × 20 columns</p>\n",
              "</div>"
            ],
            "text/plain": [
              "          reviewerID_x  ...                                  summaryReview\n",
              "112506  A3BP5ZF51CHZOE  ...                                          crap!\n",
              "112578  A3796JLADKK5Z7  ...                                YOU NEED THIS!!\n",
              "112580  A22NETHJ4KTWJP  ...       Great product at a very affordable price\n",
              "112581  A1L9ZTGO75717E  ...  Dotting 5 X 2 Way Marbleizing Dotting Pen Set\n",
              "112582  A3DDZQYUAE9WNP  ...                                 Love the look.\n",
              "...                ...  ...                                            ...\n",
              "139486  A33BT7ET6RNHES  ...                              A guilty pleasure\n",
              "139487  A2L0WJMOT484GM  ...                             blackheads remover\n",
              "139488  A34DC8D55KDAAX  ...                                   Pore strips.\n",
              "139489  A2NOW4U7W3F7RI  ...                              24 count is good!\n",
              "139468  A17SZZO9LM3WYC  ...           Great Strips, Great Price, Some Tips\n",
              "\n",
              "[26352 rows x 20 columns]"
            ]
          },
          "metadata": {
            "tags": []
          },
          "execution_count": 21
        }
      ]
    },
    {
      "cell_type": "code",
      "metadata": {
        "id": "EoALxvn3kZgM"
      },
      "source": [
        "dfProductReview = rating_json.groupby(\"asin\", as_index=False).mean()\r\n",
        "ProductReviewSummary = dfCount.groupby(\"asin\")[\"summaryReview\"].apply(list)\r\n",
        "ProductReviewSummary = pd.DataFrame(ProductReviewSummary)\r\n",
        "ProductReviewSummary.to_csv(\"ProductReviewSummary.csv\")"
      ],
      "execution_count": 22,
      "outputs": []
    },
    {
      "cell_type": "code",
      "metadata": {
        "colab": {
          "base_uri": "https://localhost:8080/",
          "height": 433
        },
        "id": "EvYLRWv4kbRK",
        "outputId": "f5b4aa39-1d1b-48d3-904d-d1f69083fe65"
      },
      "source": [
        "dfProductReview"
      ],
      "execution_count": 23,
      "outputs": [
        {
          "output_type": "execute_result",
          "data": {
            "text/html": [
              "<div>\n",
              "<style scoped>\n",
              "    .dataframe tbody tr th:only-of-type {\n",
              "        vertical-align: middle;\n",
              "    }\n",
              "\n",
              "    .dataframe tbody tr th {\n",
              "        vertical-align: top;\n",
              "    }\n",
              "\n",
              "    .dataframe thead th {\n",
              "        text-align: right;\n",
              "    }\n",
              "</style>\n",
              "<table border=\"1\" class=\"dataframe\">\n",
              "  <thead>\n",
              "    <tr style=\"text-align: right;\">\n",
              "      <th></th>\n",
              "      <th>asin</th>\n",
              "      <th>overall</th>\n",
              "      <th>unixReviewTime</th>\n",
              "    </tr>\n",
              "  </thead>\n",
              "  <tbody>\n",
              "    <tr>\n",
              "      <th>0</th>\n",
              "      <td>7806397051</td>\n",
              "      <td>2.625000</td>\n",
              "      <td>1.382087e+09</td>\n",
              "    </tr>\n",
              "    <tr>\n",
              "      <th>1</th>\n",
              "      <td>9759091062</td>\n",
              "      <td>3.090909</td>\n",
              "      <td>1.390930e+09</td>\n",
              "    </tr>\n",
              "    <tr>\n",
              "      <th>2</th>\n",
              "      <td>9788072216</td>\n",
              "      <td>5.000000</td>\n",
              "      <td>1.342552e+09</td>\n",
              "    </tr>\n",
              "    <tr>\n",
              "      <th>3</th>\n",
              "      <td>9790790961</td>\n",
              "      <td>4.333333</td>\n",
              "      <td>1.378858e+09</td>\n",
              "    </tr>\n",
              "    <tr>\n",
              "      <th>4</th>\n",
              "      <td>9790794231</td>\n",
              "      <td>3.600000</td>\n",
              "      <td>1.298212e+09</td>\n",
              "    </tr>\n",
              "    <tr>\n",
              "      <th>...</th>\n",
              "      <td>...</td>\n",
              "      <td>...</td>\n",
              "      <td>...</td>\n",
              "    </tr>\n",
              "    <tr>\n",
              "      <th>12096</th>\n",
              "      <td>B00L5KTZ0K</td>\n",
              "      <td>5.000000</td>\n",
              "      <td>1.405014e+09</td>\n",
              "    </tr>\n",
              "    <tr>\n",
              "      <th>12097</th>\n",
              "      <td>B00L6Q3BH6</td>\n",
              "      <td>4.400000</td>\n",
              "      <td>1.400734e+09</td>\n",
              "    </tr>\n",
              "    <tr>\n",
              "      <th>12098</th>\n",
              "      <td>B00LCEROA2</td>\n",
              "      <td>5.000000</td>\n",
              "      <td>1.404643e+09</td>\n",
              "    </tr>\n",
              "    <tr>\n",
              "      <th>12099</th>\n",
              "      <td>B00LG63DOM</td>\n",
              "      <td>4.800000</td>\n",
              "      <td>1.405823e+09</td>\n",
              "    </tr>\n",
              "    <tr>\n",
              "      <th>12100</th>\n",
              "      <td>B00LLPT4HI</td>\n",
              "      <td>5.000000</td>\n",
              "      <td>1.405580e+09</td>\n",
              "    </tr>\n",
              "  </tbody>\n",
              "</table>\n",
              "<p>12101 rows × 3 columns</p>\n",
              "</div>"
            ],
            "text/plain": [
              "             asin   overall  unixReviewTime\n",
              "0      7806397051  2.625000    1.382087e+09\n",
              "1      9759091062  3.090909    1.390930e+09\n",
              "2      9788072216  5.000000    1.342552e+09\n",
              "3      9790790961  4.333333    1.378858e+09\n",
              "4      9790794231  3.600000    1.298212e+09\n",
              "...           ...       ...             ...\n",
              "12096  B00L5KTZ0K  5.000000    1.405014e+09\n",
              "12097  B00L6Q3BH6  4.400000    1.400734e+09\n",
              "12098  B00LCEROA2  5.000000    1.404643e+09\n",
              "12099  B00LG63DOM  4.800000    1.405823e+09\n",
              "12100  B00LLPT4HI  5.000000    1.405580e+09\n",
              "\n",
              "[12101 rows x 3 columns]"
            ]
          },
          "metadata": {
            "tags": []
          },
          "execution_count": 23
        }
      ]
    },
    {
      "cell_type": "code",
      "metadata": {
        "colab": {
          "base_uri": "https://localhost:8080/",
          "height": 1000
        },
        "id": "yNxJUKMTkeHL",
        "outputId": "c1d32b67-9770-44bb-ff4b-7e5b2286e5a7"
      },
      "source": [
        "# Selecting products with more than 40 reviews\r\n",
        "dfMerged = dfMerged.sort_values(by='totalReviewers', ascending=False)\r\n",
        "dfCount = dfMerged[dfMerged.totalReviewers >= 40]\r\n",
        "dfCount"
      ],
      "execution_count": 24,
      "outputs": [
        {
          "output_type": "execute_result",
          "data": {
            "text/html": [
              "<div>\n",
              "<style scoped>\n",
              "    .dataframe tbody tr th:only-of-type {\n",
              "        vertical-align: middle;\n",
              "    }\n",
              "\n",
              "    .dataframe tbody tr th {\n",
              "        vertical-align: top;\n",
              "    }\n",
              "\n",
              "    .dataframe thead th {\n",
              "        text-align: right;\n",
              "    }\n",
              "</style>\n",
              "<table border=\"1\" class=\"dataframe\">\n",
              "  <thead>\n",
              "    <tr style=\"text-align: right;\">\n",
              "      <th></th>\n",
              "      <th>reviewerID_x</th>\n",
              "      <th>asin</th>\n",
              "      <th>reviewerName_x</th>\n",
              "      <th>helpful_x</th>\n",
              "      <th>reviewText_x</th>\n",
              "      <th>overall_x</th>\n",
              "      <th>summary_x</th>\n",
              "      <th>unixReviewTime_x</th>\n",
              "      <th>reviewTime_x</th>\n",
              "      <th>reviewerID_y</th>\n",
              "      <th>reviewerName_y</th>\n",
              "      <th>helpful_y</th>\n",
              "      <th>reviewText_y</th>\n",
              "      <th>overall_y</th>\n",
              "      <th>summary_y</th>\n",
              "      <th>unixReviewTime_y</th>\n",
              "      <th>reviewTime_y</th>\n",
              "      <th>totalReviewers</th>\n",
              "      <th>overallScore</th>\n",
              "      <th>summaryReview</th>\n",
              "    </tr>\n",
              "  </thead>\n",
              "  <tbody>\n",
              "    <tr>\n",
              "      <th>112506</th>\n",
              "      <td>A3BP5ZF51CHZOE</td>\n",
              "      <td>B004OHQR1Q</td>\n",
              "      <td>Caitlyn Johnson</td>\n",
              "      <td>[7, 9]</td>\n",
              "      <td>first off.... i ordered these expecting there ...</td>\n",
              "      <td>1</td>\n",
              "      <td>crap!</td>\n",
              "      <td>1382572800</td>\n",
              "      <td>10 24, 2013</td>\n",
              "      <td>431</td>\n",
              "      <td>431</td>\n",
              "      <td>431</td>\n",
              "      <td>431</td>\n",
              "      <td>431</td>\n",
              "      <td>431</td>\n",
              "      <td>431</td>\n",
              "      <td>431</td>\n",
              "      <td>431</td>\n",
              "      <td>1</td>\n",
              "      <td>crap!</td>\n",
              "    </tr>\n",
              "    <tr>\n",
              "      <th>112637</th>\n",
              "      <td>A3T5NA2NUA6SH8</td>\n",
              "      <td>B004OHQR1Q</td>\n",
              "      <td>Juana Taveras</td>\n",
              "      <td>[0, 0]</td>\n",
              "      <td>I'm sure I'm gonna get the best of this dots b...</td>\n",
              "      <td>5</td>\n",
              "      <td>Like it</td>\n",
              "      <td>1372723200</td>\n",
              "      <td>07 2, 2013</td>\n",
              "      <td>431</td>\n",
              "      <td>431</td>\n",
              "      <td>431</td>\n",
              "      <td>431</td>\n",
              "      <td>431</td>\n",
              "      <td>431</td>\n",
              "      <td>431</td>\n",
              "      <td>431</td>\n",
              "      <td>431</td>\n",
              "      <td>5</td>\n",
              "      <td>Like it</td>\n",
              "    </tr>\n",
              "    <tr>\n",
              "      <th>112650</th>\n",
              "      <td>A1ZBG67FX95ZSE</td>\n",
              "      <td>B004OHQR1Q</td>\n",
              "      <td>Kathleen Deffenbaugh</td>\n",
              "      <td>[0, 0]</td>\n",
              "      <td>These are really great, and well worth the mon...</td>\n",
              "      <td>5</td>\n",
              "      <td>Awesome!</td>\n",
              "      <td>1368057600</td>\n",
              "      <td>05 9, 2013</td>\n",
              "      <td>431</td>\n",
              "      <td>431</td>\n",
              "      <td>431</td>\n",
              "      <td>431</td>\n",
              "      <td>431</td>\n",
              "      <td>431</td>\n",
              "      <td>431</td>\n",
              "      <td>431</td>\n",
              "      <td>431</td>\n",
              "      <td>5</td>\n",
              "      <td>Awesome!</td>\n",
              "    </tr>\n",
              "    <tr>\n",
              "      <th>112627</th>\n",
              "      <td>A1XZ4QLPZXPGV6</td>\n",
              "      <td>B004OHQR1Q</td>\n",
              "      <td>Jessica</td>\n",
              "      <td>[0, 0]</td>\n",
              "      <td>I havent tried using these but I don't see how...</td>\n",
              "      <td>4</td>\n",
              "      <td>Cant wait</td>\n",
              "      <td>1377475200</td>\n",
              "      <td>08 26, 2013</td>\n",
              "      <td>431</td>\n",
              "      <td>431</td>\n",
              "      <td>431</td>\n",
              "      <td>431</td>\n",
              "      <td>431</td>\n",
              "      <td>431</td>\n",
              "      <td>431</td>\n",
              "      <td>431</td>\n",
              "      <td>431</td>\n",
              "      <td>4</td>\n",
              "      <td>Cant wait</td>\n",
              "    </tr>\n",
              "    <tr>\n",
              "      <th>112628</th>\n",
              "      <td>A11Y1NMAMM89HA</td>\n",
              "      <td>B004OHQR1Q</td>\n",
              "      <td>Jessica Kessler</td>\n",
              "      <td>[0, 0]</td>\n",
              "      <td>This is such a great deal!! I was looking at t...</td>\n",
              "      <td>4</td>\n",
              "      <td>Dotting Pen Set</td>\n",
              "      <td>1379289600</td>\n",
              "      <td>09 16, 2013</td>\n",
              "      <td>431</td>\n",
              "      <td>431</td>\n",
              "      <td>431</td>\n",
              "      <td>431</td>\n",
              "      <td>431</td>\n",
              "      <td>431</td>\n",
              "      <td>431</td>\n",
              "      <td>431</td>\n",
              "      <td>431</td>\n",
              "      <td>4</td>\n",
              "      <td>Dotting Pen Set</td>\n",
              "    </tr>\n",
              "    <tr>\n",
              "      <th>...</th>\n",
              "      <td>...</td>\n",
              "      <td>...</td>\n",
              "      <td>...</td>\n",
              "      <td>...</td>\n",
              "      <td>...</td>\n",
              "      <td>...</td>\n",
              "      <td>...</td>\n",
              "      <td>...</td>\n",
              "      <td>...</td>\n",
              "      <td>...</td>\n",
              "      <td>...</td>\n",
              "      <td>...</td>\n",
              "      <td>...</td>\n",
              "      <td>...</td>\n",
              "      <td>...</td>\n",
              "      <td>...</td>\n",
              "      <td>...</td>\n",
              "      <td>...</td>\n",
              "      <td>...</td>\n",
              "      <td>...</td>\n",
              "    </tr>\n",
              "    <tr>\n",
              "      <th>28564</th>\n",
              "      <td>AW2YH1Q4CLB6V</td>\n",
              "      <td>B000P6BRHY</td>\n",
              "      <td>Delaine Godin \"SpiceyD\"</td>\n",
              "      <td>[1, 1]</td>\n",
              "      <td>Great pencil and gel for African American, nat...</td>\n",
              "      <td>5</td>\n",
              "      <td>Staple!</td>\n",
              "      <td>1395878400</td>\n",
              "      <td>03 27, 2014</td>\n",
              "      <td>40</td>\n",
              "      <td>40</td>\n",
              "      <td>40</td>\n",
              "      <td>40</td>\n",
              "      <td>40</td>\n",
              "      <td>40</td>\n",
              "      <td>40</td>\n",
              "      <td>40</td>\n",
              "      <td>40</td>\n",
              "      <td>5</td>\n",
              "      <td>Staple!</td>\n",
              "    </tr>\n",
              "    <tr>\n",
              "      <th>40250</th>\n",
              "      <td>A3HOJNJDBR2ML6</td>\n",
              "      <td>B001183N8G</td>\n",
              "      <td>Diamonds In The Sky</td>\n",
              "      <td>[0, 0]</td>\n",
              "      <td>The best self tanner. I used this in the past ...</td>\n",
              "      <td>5</td>\n",
              "      <td>The best!! Smell could be better though.</td>\n",
              "      <td>1393027200</td>\n",
              "      <td>02 22, 2014</td>\n",
              "      <td>40</td>\n",
              "      <td>40</td>\n",
              "      <td>40</td>\n",
              "      <td>40</td>\n",
              "      <td>40</td>\n",
              "      <td>40</td>\n",
              "      <td>40</td>\n",
              "      <td>40</td>\n",
              "      <td>40</td>\n",
              "      <td>5</td>\n",
              "      <td>The best!! Smell could be better though.</td>\n",
              "    </tr>\n",
              "    <tr>\n",
              "      <th>3683</th>\n",
              "      <td>A1XYGS9BACL5XM</td>\n",
              "      <td>B00008ZPG9</td>\n",
              "      <td>Judy</td>\n",
              "      <td>[5, 7]</td>\n",
              "      <td>I love the Olay Regenerist line! Moisturizes y...</td>\n",
              "      <td>5</td>\n",
              "      <td>Highly Recommend!</td>\n",
              "      <td>1177200000</td>\n",
              "      <td>04 22, 2007</td>\n",
              "      <td>40</td>\n",
              "      <td>40</td>\n",
              "      <td>40</td>\n",
              "      <td>40</td>\n",
              "      <td>40</td>\n",
              "      <td>40</td>\n",
              "      <td>40</td>\n",
              "      <td>40</td>\n",
              "      <td>40</td>\n",
              "      <td>5</td>\n",
              "      <td>Highly Recommend!</td>\n",
              "    </tr>\n",
              "    <tr>\n",
              "      <th>12017</th>\n",
              "      <td>A1780V0MBZXNRR</td>\n",
              "      <td>B000980PGM</td>\n",
              "      <td>T Brown</td>\n",
              "      <td>[0, 0]</td>\n",
              "      <td>This is a DAILY and GENTLE exfoliant.  Sprinkl...</td>\n",
              "      <td>5</td>\n",
              "      <td>best treat for clear and radiant skin</td>\n",
              "      <td>1326067200</td>\n",
              "      <td>01 9, 2012</td>\n",
              "      <td>40</td>\n",
              "      <td>40</td>\n",
              "      <td>40</td>\n",
              "      <td>40</td>\n",
              "      <td>40</td>\n",
              "      <td>40</td>\n",
              "      <td>40</td>\n",
              "      <td>40</td>\n",
              "      <td>40</td>\n",
              "      <td>5</td>\n",
              "      <td>best treat for clear and radiant skin</td>\n",
              "    </tr>\n",
              "    <tr>\n",
              "      <th>12013</th>\n",
              "      <td>A2S2E378EBMXKO</td>\n",
              "      <td>B000980PGM</td>\n",
              "      <td>Russell Lephew</td>\n",
              "      <td>[0, 0]</td>\n",
              "      <td>This is a VERY gentle exfoliant for your skin....</td>\n",
              "      <td>4</td>\n",
              "      <td>Very gentle</td>\n",
              "      <td>1395878400</td>\n",
              "      <td>03 27, 2014</td>\n",
              "      <td>40</td>\n",
              "      <td>40</td>\n",
              "      <td>40</td>\n",
              "      <td>40</td>\n",
              "      <td>40</td>\n",
              "      <td>40</td>\n",
              "      <td>40</td>\n",
              "      <td>40</td>\n",
              "      <td>40</td>\n",
              "      <td>4</td>\n",
              "      <td>Very gentle</td>\n",
              "    </tr>\n",
              "  </tbody>\n",
              "</table>\n",
              "<p>76927 rows × 20 columns</p>\n",
              "</div>"
            ],
            "text/plain": [
              "          reviewerID_x  ...                             summaryReview\n",
              "112506  A3BP5ZF51CHZOE  ...                                     crap!\n",
              "112637  A3T5NA2NUA6SH8  ...                                   Like it\n",
              "112650  A1ZBG67FX95ZSE  ...                                  Awesome!\n",
              "112627  A1XZ4QLPZXPGV6  ...                                 Cant wait\n",
              "112628  A11Y1NMAMM89HA  ...                           Dotting Pen Set\n",
              "...                ...  ...                                       ...\n",
              "28564    AW2YH1Q4CLB6V  ...                                   Staple!\n",
              "40250   A3HOJNJDBR2ML6  ...  The best!! Smell could be better though.\n",
              "3683    A1XYGS9BACL5XM  ...                         Highly Recommend!\n",
              "12017   A1780V0MBZXNRR  ...     best treat for clear and radiant skin\n",
              "12013   A2S2E378EBMXKO  ...                               Very gentle\n",
              "\n",
              "[76927 rows x 20 columns]"
            ]
          },
          "metadata": {
            "tags": []
          },
          "execution_count": 24
        }
      ]
    },
    {
      "cell_type": "code",
      "metadata": {
        "colab": {
          "base_uri": "https://localhost:8080/",
          "height": 433
        },
        "id": "F08UdPrQkgrU",
        "outputId": "b1b24256-d5a6-4e98-e5f0-bc0680575952"
      },
      "source": [
        "dfProductReview.rename(columns={\"asin\":\"asin\"},inplace=True)\r\n",
        "\r\n",
        "df3 = pd.read_csv(\"ProductReviewSummary.csv\")\r\n",
        "df3 = pd.merge(df3, dfProductReview, on=\"asin\", how='inner')\r\n",
        "\r\n",
        "df3 = df3[['asin','summaryReview','overall']]\r\n",
        "df3"
      ],
      "execution_count": 25,
      "outputs": [
        {
          "output_type": "execute_result",
          "data": {
            "text/html": [
              "<div>\n",
              "<style scoped>\n",
              "    .dataframe tbody tr th:only-of-type {\n",
              "        vertical-align: middle;\n",
              "    }\n",
              "\n",
              "    .dataframe tbody tr th {\n",
              "        vertical-align: top;\n",
              "    }\n",
              "\n",
              "    .dataframe thead th {\n",
              "        text-align: right;\n",
              "    }\n",
              "</style>\n",
              "<table border=\"1\" class=\"dataframe\">\n",
              "  <thead>\n",
              "    <tr style=\"text-align: right;\">\n",
              "      <th></th>\n",
              "      <th>asin</th>\n",
              "      <th>summaryReview</th>\n",
              "      <th>overall</th>\n",
              "    </tr>\n",
              "  </thead>\n",
              "  <tbody>\n",
              "    <tr>\n",
              "      <th>0</th>\n",
              "      <td>B0000530ED</td>\n",
              "      <td>['Great Color', 'This Is *Deep-Burgundy-Plum* ...</td>\n",
              "      <td>4.009709</td>\n",
              "    </tr>\n",
              "    <tr>\n",
              "      <th>1</th>\n",
              "      <td>B0000632EN</td>\n",
              "      <td>['Nice small size', 'This product is really ni...</td>\n",
              "      <td>3.802721</td>\n",
              "    </tr>\n",
              "    <tr>\n",
              "      <th>2</th>\n",
              "      <td>B0000CC64W</td>\n",
              "      <td>['Love it', 'Light', 'A skin must-have', 'Noti...</td>\n",
              "      <td>4.314685</td>\n",
              "    </tr>\n",
              "    <tr>\n",
              "      <th>3</th>\n",
              "      <td>B000142C1A</td>\n",
              "      <td>['Beautiful!', 'Pretty - more orange in person...</td>\n",
              "      <td>4.482456</td>\n",
              "    </tr>\n",
              "    <tr>\n",
              "      <th>4</th>\n",
              "      <td>B000142FVW</td>\n",
              "      <td>['my perfect \"Every-day\" soft neutral', \"Looks...</td>\n",
              "      <td>4.552980</td>\n",
              "    </tr>\n",
              "    <tr>\n",
              "      <th>...</th>\n",
              "      <td>...</td>\n",
              "      <td>...</td>\n",
              "      <td>...</td>\n",
              "    </tr>\n",
              "    <tr>\n",
              "      <th>169</th>\n",
              "      <td>B00KAL5JAU</td>\n",
              "      <td>['Love this in addition to the Dead Sea Mud Sh...</td>\n",
              "      <td>4.761194</td>\n",
              "    </tr>\n",
              "    <tr>\n",
              "      <th>170</th>\n",
              "      <td>B00KCFAZTE</td>\n",
              "      <td>['GREAT FOR PUFFY EYES AND DARK CIRCLES !', 'L...</td>\n",
              "      <td>4.759259</td>\n",
              "    </tr>\n",
              "    <tr>\n",
              "      <th>171</th>\n",
              "      <td>B00KHGIK54</td>\n",
              "      <td>['Preventative Measure!', 'Beautiful Results; ...</td>\n",
              "      <td>4.832061</td>\n",
              "    </tr>\n",
              "    <tr>\n",
              "      <th>172</th>\n",
              "      <td>B00KHH2VOY</td>\n",
              "      <td>['Great Soap', 'LOVE this soap!!', 'another fa...</td>\n",
              "      <td>4.877049</td>\n",
              "    </tr>\n",
              "    <tr>\n",
              "      <th>173</th>\n",
              "      <td>B00KQBR9FM</td>\n",
              "      <td>['Love at first use', 'very hydrating', 'Love ...</td>\n",
              "      <td>4.745098</td>\n",
              "    </tr>\n",
              "  </tbody>\n",
              "</table>\n",
              "<p>174 rows × 3 columns</p>\n",
              "</div>"
            ],
            "text/plain": [
              "           asin                                      summaryReview   overall\n",
              "0    B0000530ED  ['Great Color', 'This Is *Deep-Burgundy-Plum* ...  4.009709\n",
              "1    B0000632EN  ['Nice small size', 'This product is really ni...  3.802721\n",
              "2    B0000CC64W  ['Love it', 'Light', 'A skin must-have', 'Noti...  4.314685\n",
              "3    B000142C1A  ['Beautiful!', 'Pretty - more orange in person...  4.482456\n",
              "4    B000142FVW  ['my perfect \"Every-day\" soft neutral', \"Looks...  4.552980\n",
              "..          ...                                                ...       ...\n",
              "169  B00KAL5JAU  ['Love this in addition to the Dead Sea Mud Sh...  4.761194\n",
              "170  B00KCFAZTE  ['GREAT FOR PUFFY EYES AND DARK CIRCLES !', 'L...  4.759259\n",
              "171  B00KHGIK54  ['Preventative Measure!', 'Beautiful Results; ...  4.832061\n",
              "172  B00KHH2VOY  ['Great Soap', 'LOVE this soap!!', 'another fa...  4.877049\n",
              "173  B00KQBR9FM  ['Love at first use', 'very hydrating', 'Love ...  4.745098\n",
              "\n",
              "[174 rows x 3 columns]"
            ]
          },
          "metadata": {
            "tags": []
          },
          "execution_count": 25
        }
      ]
    },
    {
      "cell_type": "code",
      "metadata": {
        "colab": {
          "base_uri": "https://localhost:8080/"
        },
        "id": "zgzCpCxvkim2",
        "outputId": "b8b7fe72-5e16-4a52-c1c4-884ac6939d1a"
      },
      "source": [
        "import re\r\n",
        "import string\r\n",
        "from wordcloud import WordCloud, STOPWORDS\r\n",
        "from sklearn.metrics import mean_squared_error\r\n",
        "\r\n",
        "import nltk\r\n",
        "nltk.download('stopwords')"
      ],
      "execution_count": 26,
      "outputs": [
        {
          "output_type": "stream",
          "text": [
            "[nltk_data] Downloading package stopwords to /root/nltk_data...\n",
            "[nltk_data]   Unzipping corpora/stopwords.zip.\n"
          ],
          "name": "stdout"
        },
        {
          "output_type": "execute_result",
          "data": {
            "text/plain": [
              "True"
            ]
          },
          "metadata": {
            "tags": []
          },
          "execution_count": 26
        }
      ]
    },
    {
      "cell_type": "code",
      "metadata": {
        "id": "MY1zY-hIkkmz"
      },
      "source": [
        "regEx = re.compile('[^a-z]+')\r\n",
        "def cleanReviews(reviewText):\r\n",
        "    reviewText = reviewText.lower()\r\n",
        "    reviewText = regEx.sub(' ', reviewText).strip()\r\n",
        "    return reviewText\r\n",
        "\r\n",
        "df3[\"summaryClean\"] = df3[\"summaryReview\"].apply(cleanReviews)\r\n",
        "df3 = df3.drop_duplicates(['overall'], keep='last')\r\n",
        "df3 = df3.reset_index()\r\n",
        "reviews = df3[\"summaryClean\"] \r\n",
        "\r\n"
      ],
      "execution_count": 27,
      "outputs": []
    },
    {
      "cell_type": "code",
      "metadata": {
        "id": "t7N1b1dokpIk"
      },
      "source": [
        "from pandas import DataFrame \r\n",
        "countVector = CountVectorizer(max_features = 300, stop_words='english') \r\n",
        "transformedReviews = countVector.fit_transform(reviews) \r\n",
        "\r\n",
        "dfReviews = DataFrame(transformedReviews.A, columns=countVector.get_feature_names())\r\n",
        "dfReviews = dfReviews.astype(int)"
      ],
      "execution_count": 28,
      "outputs": []
    },
    {
      "cell_type": "code",
      "metadata": {
        "id": "TCYwb7eykrBn"
      },
      "source": [
        "from pandas import DataFrame \r\n",
        "countVector = CountVectorizer(max_features = 300, stop_words='english') \r\n",
        "transformedReviews = countVector.fit_transform(reviews) \r\n",
        "\r\n",
        "dfReviews = DataFrame(transformedReviews.A, columns=countVector.get_feature_names())\r\n",
        "dfReviews = dfReviews.astype(int)"
      ],
      "execution_count": 29,
      "outputs": []
    },
    {
      "cell_type": "code",
      "metadata": {
        "id": "F-bl0G_Rksf4"
      },
      "source": [
        "# Train Test split\r\n",
        "X = np.array(dfReviews)\r\n",
        " # create train and test\r\n",
        "tpercent = 0.9\r\n",
        "tsize = int(np.floor(tpercent * len(dfReviews)))\r\n",
        "dfReviews_train = X[:tsize]\r\n",
        "dfReviews_test = X[tsize:]\r\n",
        "#len of train and test\r\n",
        "lentrain = len(dfReviews_train)\r\n",
        "lentest = len(dfReviews_test)"
      ],
      "execution_count": 30,
      "outputs": []
    },
    {
      "cell_type": "code",
      "metadata": {
        "colab": {
          "base_uri": "https://localhost:8080/"
        },
        "id": "OeMC9El8kuLj",
        "outputId": "e114df66-e21c-4907-9279-8f2072a76945"
      },
      "source": [
        "from sklearn.neighbors import NearestNeighbors\r\n",
        "neighbor = NearestNeighbors(n_neighbors=3, algorithm='ball_tree').fit(dfReviews_train)\r\n",
        "\r\n",
        "# Let's find the k-neighbors of each point in object X. To do that we call the kneighbors() function on object X.\r\n",
        "distances, indices = neighbor.kneighbors(dfReviews_train)\r\n",
        "\r\n",
        "for i in range(lentest):\r\n",
        "    a = neighbor.kneighbors([dfReviews_test[i]])\r\n",
        "    related_product_list = a[1]\r\n",
        "\r\n",
        "    first_related_product = [item[0] for item in related_product_list]\r\n",
        "    first_related_product = str(first_related_product).strip('[]')\r\n",
        "    first_related_product = int(first_related_product)\r\n",
        "    second_related_product = [item[1] for item in related_product_list]\r\n",
        "    second_related_product = str(second_related_product).strip('[]')\r\n",
        "    second_related_product = int(second_related_product)\r\n",
        "    \r\n",
        "    print (\"Based on product reviews, for \", df3[\"asin\"][lentrain + i] ,\" average rating is \",df3[\"overall\"][lentrain + i])\r\n",
        "    print (\"The first similar product is \", df3[\"asin\"][first_related_product] ,\" average rating is \",df3[\"overall\"][first_related_product])\r\n",
        "    print (\"The second similar product is \", df3[\"asin\"][second_related_product] ,\" average rating is \",df3[\"overall\"][second_related_product])\r\n",
        "    print (\"-----------------------------------------------------------\")"
      ],
      "execution_count": 31,
      "outputs": [
        {
          "output_type": "stream",
          "text": [
            "Based on product reviews, for  B00AO4EMKQ  average rating is  4.285714285714286\n",
            "The first similar product is  B005TI7LHS  average rating is  4.139130434782609\n",
            "The second similar product is  B00AO4EL34  average rating is  4.1909090909090905\n",
            "-----------------------------------------------------------\n",
            "Based on product reviews, for  B00AWLB9G6  average rating is  4.39622641509434\n",
            "The first similar product is  B00AO4E9MC  average rating is  4.339130434782609\n",
            "The second similar product is  B00AE078YM  average rating is  3.78\n",
            "-----------------------------------------------------------\n",
            "Based on product reviews, for  B00AWLB9I4  average rating is  4.207920792079208\n",
            "The first similar product is  B00AO4E9MC  average rating is  4.339130434782609\n",
            "The second similar product is  B00AE078YM  average rating is  3.78\n",
            "-----------------------------------------------------------\n",
            "Based on product reviews, for  B00C7DYBX0  average rating is  4.098039215686274\n",
            "The first similar product is  B0090UJFYI  average rating is  4.245454545454545\n",
            "The second similar product is  B004LUZ956  average rating is  4.024390243902439\n",
            "-----------------------------------------------------------\n",
            "Based on product reviews, for  B00C8YCFU4  average rating is  4.66412213740458\n",
            "The first similar product is  B000F63TW0  average rating is  4.338461538461538\n",
            "The second similar product is  B0089JVDPK  average rating is  4.3931623931623935\n",
            "-----------------------------------------------------------\n",
            "Based on product reviews, for  B00G5WO2VK  average rating is  4.756521739130434\n",
            "The first similar product is  B004Z209HS  average rating is  4.39\n",
            "The second similar product is  B007Q0WW0S  average rating is  4.568965517241379\n",
            "-----------------------------------------------------------\n",
            "Based on product reviews, for  B00GFBWWWC  average rating is  4.693548387096774\n",
            "The first similar product is  B0000CC64W  average rating is  4.314685314685315\n",
            "The second similar product is  B003MJ7Z0O  average rating is  4.0606060606060606\n",
            "-----------------------------------------------------------\n",
            "Based on product reviews, for  B00H93NJLS  average rating is  4.792857142857143\n",
            "The first similar product is  B004Z209HS  average rating is  4.39\n",
            "The second similar product is  B007Q0WW0S  average rating is  4.568965517241379\n",
            "-----------------------------------------------------------\n",
            "Based on product reviews, for  B00HJD8NLY  average rating is  4.885135135135135\n",
            "The first similar product is  B0000CC64W  average rating is  4.314685314685315\n",
            "The second similar product is  B003MJ7Z0O  average rating is  4.0606060606060606\n",
            "-----------------------------------------------------------\n",
            "Based on product reviews, for  B00I6CRX04  average rating is  4.221476510067114\n",
            "The first similar product is  B00604MSSC  average rating is  4.161904761904762\n",
            "The second similar product is  B00AO379NE  average rating is  4.401869158878505\n",
            "-----------------------------------------------------------\n",
            "Based on product reviews, for  B00IBS9QC6  average rating is  4.915384615384616\n",
            "The first similar product is  B000F63TW0  average rating is  4.338461538461538\n",
            "The second similar product is  B003MJ7Z0O  average rating is  4.0606060606060606\n",
            "-----------------------------------------------------------\n",
            "Based on product reviews, for  B00IP42FBA  average rating is  4.871794871794871\n",
            "The first similar product is  B004Z209HS  average rating is  4.39\n",
            "The second similar product is  B0013TM9UQ  average rating is  4.471074380165289\n",
            "-----------------------------------------------------------\n",
            "Based on product reviews, for  B00JJVG6HC  average rating is  4.809210526315789\n",
            "The first similar product is  B007RTR89S  average rating is  3.881188118811881\n",
            "The second similar product is  B00AO4E9E0  average rating is  4.388349514563107\n",
            "-----------------------------------------------------------\n",
            "Based on product reviews, for  B00KAL5JAU  average rating is  4.7611940298507465\n",
            "The first similar product is  B00AO4E9MC  average rating is  4.339130434782609\n",
            "The second similar product is  B007RTR8T8  average rating is  4.107843137254902\n",
            "-----------------------------------------------------------\n",
            "Based on product reviews, for  B00KCFAZTE  average rating is  4.7592592592592595\n",
            "The first similar product is  B00AO4EKSU  average rating is  4.095652173913043\n",
            "The second similar product is  B009LOJ5MA  average rating is  3.4921875\n",
            "-----------------------------------------------------------\n",
            "Based on product reviews, for  B00KHGIK54  average rating is  4.8320610687022905\n",
            "The first similar product is  B0000CC64W  average rating is  4.314685314685315\n",
            "The second similar product is  B003MJ7Z0O  average rating is  4.0606060606060606\n",
            "-----------------------------------------------------------\n",
            "Based on product reviews, for  B00KHH2VOY  average rating is  4.877049180327869\n",
            "The first similar product is  B002TSA90M  average rating is  4.452173913043478\n",
            "The second similar product is  B00AE07IEM  average rating is  4.275229357798165\n",
            "-----------------------------------------------------------\n",
            "Based on product reviews, for  B00KQBR9FM  average rating is  4.745098039215686\n",
            "The first similar product is  B00AO4EKSU  average rating is  4.095652173913043\n",
            "The second similar product is  B0030HKJ8I  average rating is  4.324137931034483\n",
            "-----------------------------------------------------------\n"
          ],
          "name": "stdout"
        }
      ]
    },
    {
      "cell_type": "code",
      "metadata": {
        "colab": {
          "base_uri": "https://localhost:8080/",
          "height": 259
        },
        "id": "lgW4VJtHkvvs",
        "outputId": "b2feda80-838d-4172-f02d-02cc90006997"
      },
      "source": [
        "\r\n",
        "df4_train_target = df3[\"overall\"][:lentrain]\r\n",
        "df4_test_target = df3[\"overall\"][lentrain:lentrain+lentest]\r\n",
        "df4_train_target = df4_train_target.astype(int)\r\n",
        "df4_test_target = df4_test_target.astype(int)\r\n",
        "\r\n",
        "n_neighbors = 4\r\n",
        "knnclf = neighbors.KNeighborsClassifier(n_neighbors, weights='distance')\r\n",
        "knnclf.fit(dfReviews_train, df4_train_target)\r\n",
        "knnpreds_test = knnclf.predict(dfReviews_test)\r\n",
        "\r\n",
        "print(classification_report(df4_test_target, knnpreds_test))"
      ],
      "execution_count": 32,
      "outputs": [
        {
          "output_type": "error",
          "ename": "NameError",
          "evalue": "ignored",
          "traceback": [
            "\u001b[0;31m---------------------------------------------------------------------------\u001b[0m",
            "\u001b[0;31mNameError\u001b[0m                                 Traceback (most recent call last)",
            "\u001b[0;32m<ipython-input-32-308292bf8773>\u001b[0m in \u001b[0;36m<module>\u001b[0;34m()\u001b[0m\n\u001b[1;32m      6\u001b[0m \u001b[0;34m\u001b[0m\u001b[0m\n\u001b[1;32m      7\u001b[0m \u001b[0mn_neighbors\u001b[0m \u001b[0;34m=\u001b[0m \u001b[0;36m4\u001b[0m\u001b[0;34m\u001b[0m\u001b[0;34m\u001b[0m\u001b[0m\n\u001b[0;32m----> 8\u001b[0;31m \u001b[0mknnclf\u001b[0m \u001b[0;34m=\u001b[0m \u001b[0mneighbors\u001b[0m\u001b[0;34m.\u001b[0m\u001b[0mKNeighborsClassifier\u001b[0m\u001b[0;34m(\u001b[0m\u001b[0mn_neighbors\u001b[0m\u001b[0;34m,\u001b[0m \u001b[0mweights\u001b[0m\u001b[0;34m=\u001b[0m\u001b[0;34m'distance'\u001b[0m\u001b[0;34m)\u001b[0m\u001b[0;34m\u001b[0m\u001b[0;34m\u001b[0m\u001b[0m\n\u001b[0m\u001b[1;32m      9\u001b[0m \u001b[0mknnclf\u001b[0m\u001b[0;34m.\u001b[0m\u001b[0mfit\u001b[0m\u001b[0;34m(\u001b[0m\u001b[0mdfReviews_train\u001b[0m\u001b[0;34m,\u001b[0m \u001b[0mdf4_train_target\u001b[0m\u001b[0;34m)\u001b[0m\u001b[0;34m\u001b[0m\u001b[0;34m\u001b[0m\u001b[0m\n\u001b[1;32m     10\u001b[0m \u001b[0mknnpreds_test\u001b[0m \u001b[0;34m=\u001b[0m \u001b[0mknnclf\u001b[0m\u001b[0;34m.\u001b[0m\u001b[0mpredict\u001b[0m\u001b[0;34m(\u001b[0m\u001b[0mdfReviews_test\u001b[0m\u001b[0;34m)\u001b[0m\u001b[0;34m\u001b[0m\u001b[0;34m\u001b[0m\u001b[0m\n",
            "\u001b[0;31mNameError\u001b[0m: name 'neighbors' is not defined"
          ]
        }
      ]
    },
    {
      "cell_type": "code",
      "metadata": {
        "id": "UWLPIQs7laI0"
      },
      "source": [
        ""
      ],
      "execution_count": null,
      "outputs": []
    }
  ]
}